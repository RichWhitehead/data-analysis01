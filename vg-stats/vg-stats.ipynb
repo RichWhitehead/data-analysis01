{
 "cells": [
  {
   "cell_type": "code",
   "execution_count": 6,
   "metadata": {},
   "outputs": [],
   "source": [
    "import numpy as np\n",
    "import pandas as pd"
   ]
  },
  {
   "cell_type": "code",
   "execution_count": 7,
   "metadata": {},
   "outputs": [],
   "source": [
    "vg_df = pd.read_csv('vgsales.csv')"
   ]
  },
  {
   "cell_type": "code",
   "execution_count": 8,
   "metadata": {},
   "outputs": [
    {
     "output_type": "execute_result",
     "data": {
      "text/plain": "        Rank                                              Name Platform  \\\n0          1                                        Wii Sports      Wii   \n1          2                                 Super Mario Bros.      NES   \n2          3                                    Mario Kart Wii      Wii   \n3          4                                 Wii Sports Resort      Wii   \n4          5                          Pokemon Red/Pokemon Blue       GB   \n...      ...                                               ...      ...   \n16593  16596                Woody Woodpecker in Crazy Castle 5      GBA   \n16594  16597                     Men in Black II: Alien Escape       GC   \n16595  16598  SCORE International Baja 1000: The Official Game      PS2   \n16596  16599                                        Know How 2       DS   \n16597  16600                                  Spirits & Spells      GBA   \n\n         Year         Genre   Publisher  NA_Sales  EU_Sales  JP_Sales  \\\n0      2006.0        Sports    Nintendo     41.49     29.02      3.77   \n1      1985.0      Platform    Nintendo     29.08      3.58      6.81   \n2      2008.0        Racing    Nintendo     15.85     12.88      3.79   \n3      2009.0        Sports    Nintendo     15.75     11.01      3.28   \n4      1996.0  Role-Playing    Nintendo     11.27      8.89     10.22   \n...       ...           ...         ...       ...       ...       ...   \n16593  2002.0      Platform       Kemco      0.01      0.00      0.00   \n16594  2003.0       Shooter  Infogrames      0.01      0.00      0.00   \n16595  2008.0        Racing  Activision      0.00      0.00      0.00   \n16596  2010.0        Puzzle    7G//AMES      0.00      0.01      0.00   \n16597  2003.0      Platform     Wanadoo      0.01      0.00      0.00   \n\n       Other_Sales  Global_Sales  \n0             8.46         82.74  \n1             0.77         40.24  \n2             3.31         35.82  \n3             2.96         33.00  \n4             1.00         31.37  \n...            ...           ...  \n16593         0.00          0.01  \n16594         0.00          0.01  \n16595         0.00          0.01  \n16596         0.00          0.01  \n16597         0.00          0.01  \n\n[16598 rows x 11 columns]",
      "text/html": "<div>\n<style scoped>\n    .dataframe tbody tr th:only-of-type {\n        vertical-align: middle;\n    }\n\n    .dataframe tbody tr th {\n        vertical-align: top;\n    }\n\n    .dataframe thead th {\n        text-align: right;\n    }\n</style>\n<table border=\"1\" class=\"dataframe\">\n  <thead>\n    <tr style=\"text-align: right;\">\n      <th></th>\n      <th>Rank</th>\n      <th>Name</th>\n      <th>Platform</th>\n      <th>Year</th>\n      <th>Genre</th>\n      <th>Publisher</th>\n      <th>NA_Sales</th>\n      <th>EU_Sales</th>\n      <th>JP_Sales</th>\n      <th>Other_Sales</th>\n      <th>Global_Sales</th>\n    </tr>\n  </thead>\n  <tbody>\n    <tr>\n      <th>0</th>\n      <td>1</td>\n      <td>Wii Sports</td>\n      <td>Wii</td>\n      <td>2006.0</td>\n      <td>Sports</td>\n      <td>Nintendo</td>\n      <td>41.49</td>\n      <td>29.02</td>\n      <td>3.77</td>\n      <td>8.46</td>\n      <td>82.74</td>\n    </tr>\n    <tr>\n      <th>1</th>\n      <td>2</td>\n      <td>Super Mario Bros.</td>\n      <td>NES</td>\n      <td>1985.0</td>\n      <td>Platform</td>\n      <td>Nintendo</td>\n      <td>29.08</td>\n      <td>3.58</td>\n      <td>6.81</td>\n      <td>0.77</td>\n      <td>40.24</td>\n    </tr>\n    <tr>\n      <th>2</th>\n      <td>3</td>\n      <td>Mario Kart Wii</td>\n      <td>Wii</td>\n      <td>2008.0</td>\n      <td>Racing</td>\n      <td>Nintendo</td>\n      <td>15.85</td>\n      <td>12.88</td>\n      <td>3.79</td>\n      <td>3.31</td>\n      <td>35.82</td>\n    </tr>\n    <tr>\n      <th>3</th>\n      <td>4</td>\n      <td>Wii Sports Resort</td>\n      <td>Wii</td>\n      <td>2009.0</td>\n      <td>Sports</td>\n      <td>Nintendo</td>\n      <td>15.75</td>\n      <td>11.01</td>\n      <td>3.28</td>\n      <td>2.96</td>\n      <td>33.00</td>\n    </tr>\n    <tr>\n      <th>4</th>\n      <td>5</td>\n      <td>Pokemon Red/Pokemon Blue</td>\n      <td>GB</td>\n      <td>1996.0</td>\n      <td>Role-Playing</td>\n      <td>Nintendo</td>\n      <td>11.27</td>\n      <td>8.89</td>\n      <td>10.22</td>\n      <td>1.00</td>\n      <td>31.37</td>\n    </tr>\n    <tr>\n      <th>...</th>\n      <td>...</td>\n      <td>...</td>\n      <td>...</td>\n      <td>...</td>\n      <td>...</td>\n      <td>...</td>\n      <td>...</td>\n      <td>...</td>\n      <td>...</td>\n      <td>...</td>\n      <td>...</td>\n    </tr>\n    <tr>\n      <th>16593</th>\n      <td>16596</td>\n      <td>Woody Woodpecker in Crazy Castle 5</td>\n      <td>GBA</td>\n      <td>2002.0</td>\n      <td>Platform</td>\n      <td>Kemco</td>\n      <td>0.01</td>\n      <td>0.00</td>\n      <td>0.00</td>\n      <td>0.00</td>\n      <td>0.01</td>\n    </tr>\n    <tr>\n      <th>16594</th>\n      <td>16597</td>\n      <td>Men in Black II: Alien Escape</td>\n      <td>GC</td>\n      <td>2003.0</td>\n      <td>Shooter</td>\n      <td>Infogrames</td>\n      <td>0.01</td>\n      <td>0.00</td>\n      <td>0.00</td>\n      <td>0.00</td>\n      <td>0.01</td>\n    </tr>\n    <tr>\n      <th>16595</th>\n      <td>16598</td>\n      <td>SCORE International Baja 1000: The Official Game</td>\n      <td>PS2</td>\n      <td>2008.0</td>\n      <td>Racing</td>\n      <td>Activision</td>\n      <td>0.00</td>\n      <td>0.00</td>\n      <td>0.00</td>\n      <td>0.00</td>\n      <td>0.01</td>\n    </tr>\n    <tr>\n      <th>16596</th>\n      <td>16599</td>\n      <td>Know How 2</td>\n      <td>DS</td>\n      <td>2010.0</td>\n      <td>Puzzle</td>\n      <td>7G//AMES</td>\n      <td>0.00</td>\n      <td>0.01</td>\n      <td>0.00</td>\n      <td>0.00</td>\n      <td>0.01</td>\n    </tr>\n    <tr>\n      <th>16597</th>\n      <td>16600</td>\n      <td>Spirits &amp; Spells</td>\n      <td>GBA</td>\n      <td>2003.0</td>\n      <td>Platform</td>\n      <td>Wanadoo</td>\n      <td>0.01</td>\n      <td>0.00</td>\n      <td>0.00</td>\n      <td>0.00</td>\n      <td>0.01</td>\n    </tr>\n  </tbody>\n</table>\n<p>16598 rows × 11 columns</p>\n</div>"
     },
     "metadata": {},
     "execution_count": 8
    }
   ],
   "source": [
    "vg_df"
   ]
  },
  {
   "cell_type": "code",
   "execution_count": 9,
   "metadata": {},
   "outputs": [],
   "source": [
    "# Which company is the most common video game publisher?"
   ]
  },
  {
   "cell_type": "code",
   "execution_count": 12,
   "metadata": {},
   "outputs": [],
   "source": [
    "common_publishers = vg_df['Publisher'].mode()[0]"
   ]
  },
  {
   "cell_type": "code",
   "execution_count": 13,
   "metadata": {},
   "outputs": [
    {
     "output_type": "execute_result",
     "data": {
      "text/plain": "'Electronic Arts'"
     },
     "metadata": {},
     "execution_count": 13
    }
   ],
   "source": [
    "common_publishers"
   ]
  },
  {
   "cell_type": "code",
   "execution_count": 14,
   "metadata": {},
   "outputs": [
    {
     "output_type": "execute_result",
     "data": {
      "text/plain": "        Rank                          Name Platform    Year       Genre  \\\n77        78                       FIFA 16      PS4  2015.0      Sports   \n82        83                FIFA Soccer 13      PS3  2012.0      Action   \n83        84                    The Sims 3       PC  2009.0  Simulation   \n92        93  Star Wars Battlefront (2015)      PS4  2015.0     Shooter   \n99       100                 Battlefield 3     X360  2011.0     Shooter   \n...      ...                           ...      ...     ...         ...   \n16339  16342    Command & Conquer Renegade       PC  2002.0     Shooter   \n16384  16387             Poker for Dummies       PC  2008.0        Misc   \n16413  16416      The Godfather (JP sales)     X360  2006.0      Action   \n16539  16542     Spore Galactic Adventures       PC  2009.0    Strategy   \n16554  16557             Psychic Detective       PS  1995.0   Adventure   \n\n             Publisher  NA_Sales  EU_Sales  JP_Sales  Other_Sales  \\\n77     Electronic Arts      1.11      6.06      0.06         1.26   \n82     Electronic Arts      1.06      5.05      0.13         2.01   \n83     Electronic Arts      0.98      6.42      0.00         0.71   \n92     Electronic Arts      2.93      3.29      0.22         1.23   \n99     Electronic Arts      4.46      2.13      0.06         0.69   \n...                ...       ...       ...       ...          ...   \n16339  Electronic Arts      0.00      0.01      0.00         0.00   \n16384  Electronic Arts      0.00      0.01      0.00         0.00   \n16413  Electronic Arts      0.00      0.00      0.01         0.00   \n16539  Electronic Arts      0.00      0.01      0.00         0.00   \n16554  Electronic Arts      0.01      0.00      0.00         0.00   \n\n       Global_Sales  \n77             8.49  \n82             8.24  \n83             8.11  \n92             7.67  \n99             7.34  \n...             ...  \n16339          0.01  \n16384          0.01  \n16413          0.01  \n16539          0.01  \n16554          0.01  \n\n[1351 rows x 11 columns]",
      "text/html": "<div>\n<style scoped>\n    .dataframe tbody tr th:only-of-type {\n        vertical-align: middle;\n    }\n\n    .dataframe tbody tr th {\n        vertical-align: top;\n    }\n\n    .dataframe thead th {\n        text-align: right;\n    }\n</style>\n<table border=\"1\" class=\"dataframe\">\n  <thead>\n    <tr style=\"text-align: right;\">\n      <th></th>\n      <th>Rank</th>\n      <th>Name</th>\n      <th>Platform</th>\n      <th>Year</th>\n      <th>Genre</th>\n      <th>Publisher</th>\n      <th>NA_Sales</th>\n      <th>EU_Sales</th>\n      <th>JP_Sales</th>\n      <th>Other_Sales</th>\n      <th>Global_Sales</th>\n    </tr>\n  </thead>\n  <tbody>\n    <tr>\n      <th>77</th>\n      <td>78</td>\n      <td>FIFA 16</td>\n      <td>PS4</td>\n      <td>2015.0</td>\n      <td>Sports</td>\n      <td>Electronic Arts</td>\n      <td>1.11</td>\n      <td>6.06</td>\n      <td>0.06</td>\n      <td>1.26</td>\n      <td>8.49</td>\n    </tr>\n    <tr>\n      <th>82</th>\n      <td>83</td>\n      <td>FIFA Soccer 13</td>\n      <td>PS3</td>\n      <td>2012.0</td>\n      <td>Action</td>\n      <td>Electronic Arts</td>\n      <td>1.06</td>\n      <td>5.05</td>\n      <td>0.13</td>\n      <td>2.01</td>\n      <td>8.24</td>\n    </tr>\n    <tr>\n      <th>83</th>\n      <td>84</td>\n      <td>The Sims 3</td>\n      <td>PC</td>\n      <td>2009.0</td>\n      <td>Simulation</td>\n      <td>Electronic Arts</td>\n      <td>0.98</td>\n      <td>6.42</td>\n      <td>0.00</td>\n      <td>0.71</td>\n      <td>8.11</td>\n    </tr>\n    <tr>\n      <th>92</th>\n      <td>93</td>\n      <td>Star Wars Battlefront (2015)</td>\n      <td>PS4</td>\n      <td>2015.0</td>\n      <td>Shooter</td>\n      <td>Electronic Arts</td>\n      <td>2.93</td>\n      <td>3.29</td>\n      <td>0.22</td>\n      <td>1.23</td>\n      <td>7.67</td>\n    </tr>\n    <tr>\n      <th>99</th>\n      <td>100</td>\n      <td>Battlefield 3</td>\n      <td>X360</td>\n      <td>2011.0</td>\n      <td>Shooter</td>\n      <td>Electronic Arts</td>\n      <td>4.46</td>\n      <td>2.13</td>\n      <td>0.06</td>\n      <td>0.69</td>\n      <td>7.34</td>\n    </tr>\n    <tr>\n      <th>...</th>\n      <td>...</td>\n      <td>...</td>\n      <td>...</td>\n      <td>...</td>\n      <td>...</td>\n      <td>...</td>\n      <td>...</td>\n      <td>...</td>\n      <td>...</td>\n      <td>...</td>\n      <td>...</td>\n    </tr>\n    <tr>\n      <th>16339</th>\n      <td>16342</td>\n      <td>Command &amp; Conquer Renegade</td>\n      <td>PC</td>\n      <td>2002.0</td>\n      <td>Shooter</td>\n      <td>Electronic Arts</td>\n      <td>0.00</td>\n      <td>0.01</td>\n      <td>0.00</td>\n      <td>0.00</td>\n      <td>0.01</td>\n    </tr>\n    <tr>\n      <th>16384</th>\n      <td>16387</td>\n      <td>Poker for Dummies</td>\n      <td>PC</td>\n      <td>2008.0</td>\n      <td>Misc</td>\n      <td>Electronic Arts</td>\n      <td>0.00</td>\n      <td>0.01</td>\n      <td>0.00</td>\n      <td>0.00</td>\n      <td>0.01</td>\n    </tr>\n    <tr>\n      <th>16413</th>\n      <td>16416</td>\n      <td>The Godfather (JP sales)</td>\n      <td>X360</td>\n      <td>2006.0</td>\n      <td>Action</td>\n      <td>Electronic Arts</td>\n      <td>0.00</td>\n      <td>0.00</td>\n      <td>0.01</td>\n      <td>0.00</td>\n      <td>0.01</td>\n    </tr>\n    <tr>\n      <th>16539</th>\n      <td>16542</td>\n      <td>Spore Galactic Adventures</td>\n      <td>PC</td>\n      <td>2009.0</td>\n      <td>Strategy</td>\n      <td>Electronic Arts</td>\n      <td>0.00</td>\n      <td>0.01</td>\n      <td>0.00</td>\n      <td>0.00</td>\n      <td>0.01</td>\n    </tr>\n    <tr>\n      <th>16554</th>\n      <td>16557</td>\n      <td>Psychic Detective</td>\n      <td>PS</td>\n      <td>1995.0</td>\n      <td>Adventure</td>\n      <td>Electronic Arts</td>\n      <td>0.01</td>\n      <td>0.00</td>\n      <td>0.00</td>\n      <td>0.00</td>\n      <td>0.01</td>\n    </tr>\n  </tbody>\n</table>\n<p>1351 rows × 11 columns</p>\n</div>"
     },
     "metadata": {},
     "execution_count": 14
    }
   ],
   "source": [
    "vg_df[vg_df['Publisher'] == common_publishers]"
   ]
  },
  {
   "cell_type": "code",
   "execution_count": 15,
   "metadata": {},
   "outputs": [],
   "source": [
    "# What’s the most common platform?"
   ]
  },
  {
   "cell_type": "code",
   "execution_count": 16,
   "metadata": {},
   "outputs": [],
   "source": [
    "common_platforms = vg_df['Platform'].mode()[0]"
   ]
  },
  {
   "cell_type": "code",
   "execution_count": 17,
   "metadata": {},
   "outputs": [
    {
     "output_type": "execute_result",
     "data": {
      "text/plain": "'DS'"
     },
     "metadata": {},
     "execution_count": 17
    }
   ],
   "source": [
    "common_platforms"
   ]
  },
  {
   "cell_type": "code",
   "execution_count": 18,
   "metadata": {},
   "outputs": [],
   "source": [
    "# What about the most common genre?"
   ]
  },
  {
   "cell_type": "code",
   "execution_count": 19,
   "metadata": {},
   "outputs": [],
   "source": [
    "common_genre = vg_df['Genre'].mode()[0]"
   ]
  },
  {
   "cell_type": "code",
   "execution_count": 20,
   "metadata": {},
   "outputs": [
    {
     "output_type": "execute_result",
     "data": {
      "text/plain": "'Action'"
     },
     "metadata": {},
     "execution_count": 20
    }
   ],
   "source": [
    "common_genre"
   ]
  },
  {
   "cell_type": "code",
   "execution_count": 21,
   "metadata": {},
   "outputs": [],
   "source": [
    "# What are the top 20 highest grossing games?"
   ]
  },
  {
   "cell_type": "code",
   "execution_count": 22,
   "metadata": {},
   "outputs": [],
   "source": [
    "sorted_by_gross = vg_df.sort_values('Global_Sales', ascending=False)"
   ]
  },
  {
   "cell_type": "code",
   "execution_count": 23,
   "metadata": {},
   "outputs": [
    {
     "output_type": "execute_result",
     "data": {
      "text/plain": "    Rank                                          Name Platform    Year  \\\n0      1                                    Wii Sports      Wii  2006.0   \n1      2                             Super Mario Bros.      NES  1985.0   \n2      3                                Mario Kart Wii      Wii  2008.0   \n3      4                             Wii Sports Resort      Wii  2009.0   \n4      5                      Pokemon Red/Pokemon Blue       GB  1996.0   \n5      6                                        Tetris       GB  1989.0   \n6      7                         New Super Mario Bros.       DS  2006.0   \n7      8                                      Wii Play      Wii  2006.0   \n8      9                     New Super Mario Bros. Wii      Wii  2009.0   \n9     10                                     Duck Hunt      NES  1984.0   \n10    11                                    Nintendogs       DS  2005.0   \n11    12                                 Mario Kart DS       DS  2005.0   \n12    13                   Pokemon Gold/Pokemon Silver       GB  1999.0   \n13    14                                       Wii Fit      Wii  2007.0   \n14    15                                  Wii Fit Plus      Wii  2009.0   \n15    16                            Kinect Adventures!     X360  2010.0   \n16    17                            Grand Theft Auto V      PS3  2013.0   \n17    18                 Grand Theft Auto: San Andreas      PS2  2004.0   \n18    19                             Super Mario World     SNES  1990.0   \n19    20  Brain Age: Train Your Brain in Minutes a Day       DS  2005.0   \n\n           Genre               Publisher  NA_Sales  EU_Sales  JP_Sales  \\\n0         Sports                Nintendo     41.49     29.02      3.77   \n1       Platform                Nintendo     29.08      3.58      6.81   \n2         Racing                Nintendo     15.85     12.88      3.79   \n3         Sports                Nintendo     15.75     11.01      3.28   \n4   Role-Playing                Nintendo     11.27      8.89     10.22   \n5         Puzzle                Nintendo     23.20      2.26      4.22   \n6       Platform                Nintendo     11.38      9.23      6.50   \n7           Misc                Nintendo     14.03      9.20      2.93   \n8       Platform                Nintendo     14.59      7.06      4.70   \n9        Shooter                Nintendo     26.93      0.63      0.28   \n10    Simulation                Nintendo      9.07     11.00      1.93   \n11        Racing                Nintendo      9.81      7.57      4.13   \n12  Role-Playing                Nintendo      9.00      6.18      7.20   \n13        Sports                Nintendo      8.94      8.03      3.60   \n14        Sports                Nintendo      9.09      8.59      2.53   \n15          Misc  Microsoft Game Studios     14.97      4.94      0.24   \n16        Action    Take-Two Interactive      7.01      9.27      0.97   \n17        Action    Take-Two Interactive      9.43      0.40      0.41   \n18      Platform                Nintendo     12.78      3.75      3.54   \n19          Misc                Nintendo      4.75      9.26      4.16   \n\n    Other_Sales  Global_Sales  \n0          8.46         82.74  \n1          0.77         40.24  \n2          3.31         35.82  \n3          2.96         33.00  \n4          1.00         31.37  \n5          0.58         30.26  \n6          2.90         30.01  \n7          2.85         29.02  \n8          2.26         28.62  \n9          0.47         28.31  \n10         2.75         24.76  \n11         1.92         23.42  \n12         0.71         23.10  \n13         2.15         22.72  \n14         1.79         22.00  \n15         1.67         21.82  \n16         4.14         21.40  \n17        10.57         20.81  \n18         0.55         20.61  \n19         2.05         20.22  ",
      "text/html": "<div>\n<style scoped>\n    .dataframe tbody tr th:only-of-type {\n        vertical-align: middle;\n    }\n\n    .dataframe tbody tr th {\n        vertical-align: top;\n    }\n\n    .dataframe thead th {\n        text-align: right;\n    }\n</style>\n<table border=\"1\" class=\"dataframe\">\n  <thead>\n    <tr style=\"text-align: right;\">\n      <th></th>\n      <th>Rank</th>\n      <th>Name</th>\n      <th>Platform</th>\n      <th>Year</th>\n      <th>Genre</th>\n      <th>Publisher</th>\n      <th>NA_Sales</th>\n      <th>EU_Sales</th>\n      <th>JP_Sales</th>\n      <th>Other_Sales</th>\n      <th>Global_Sales</th>\n    </tr>\n  </thead>\n  <tbody>\n    <tr>\n      <th>0</th>\n      <td>1</td>\n      <td>Wii Sports</td>\n      <td>Wii</td>\n      <td>2006.0</td>\n      <td>Sports</td>\n      <td>Nintendo</td>\n      <td>41.49</td>\n      <td>29.02</td>\n      <td>3.77</td>\n      <td>8.46</td>\n      <td>82.74</td>\n    </tr>\n    <tr>\n      <th>1</th>\n      <td>2</td>\n      <td>Super Mario Bros.</td>\n      <td>NES</td>\n      <td>1985.0</td>\n      <td>Platform</td>\n      <td>Nintendo</td>\n      <td>29.08</td>\n      <td>3.58</td>\n      <td>6.81</td>\n      <td>0.77</td>\n      <td>40.24</td>\n    </tr>\n    <tr>\n      <th>2</th>\n      <td>3</td>\n      <td>Mario Kart Wii</td>\n      <td>Wii</td>\n      <td>2008.0</td>\n      <td>Racing</td>\n      <td>Nintendo</td>\n      <td>15.85</td>\n      <td>12.88</td>\n      <td>3.79</td>\n      <td>3.31</td>\n      <td>35.82</td>\n    </tr>\n    <tr>\n      <th>3</th>\n      <td>4</td>\n      <td>Wii Sports Resort</td>\n      <td>Wii</td>\n      <td>2009.0</td>\n      <td>Sports</td>\n      <td>Nintendo</td>\n      <td>15.75</td>\n      <td>11.01</td>\n      <td>3.28</td>\n      <td>2.96</td>\n      <td>33.00</td>\n    </tr>\n    <tr>\n      <th>4</th>\n      <td>5</td>\n      <td>Pokemon Red/Pokemon Blue</td>\n      <td>GB</td>\n      <td>1996.0</td>\n      <td>Role-Playing</td>\n      <td>Nintendo</td>\n      <td>11.27</td>\n      <td>8.89</td>\n      <td>10.22</td>\n      <td>1.00</td>\n      <td>31.37</td>\n    </tr>\n    <tr>\n      <th>5</th>\n      <td>6</td>\n      <td>Tetris</td>\n      <td>GB</td>\n      <td>1989.0</td>\n      <td>Puzzle</td>\n      <td>Nintendo</td>\n      <td>23.20</td>\n      <td>2.26</td>\n      <td>4.22</td>\n      <td>0.58</td>\n      <td>30.26</td>\n    </tr>\n    <tr>\n      <th>6</th>\n      <td>7</td>\n      <td>New Super Mario Bros.</td>\n      <td>DS</td>\n      <td>2006.0</td>\n      <td>Platform</td>\n      <td>Nintendo</td>\n      <td>11.38</td>\n      <td>9.23</td>\n      <td>6.50</td>\n      <td>2.90</td>\n      <td>30.01</td>\n    </tr>\n    <tr>\n      <th>7</th>\n      <td>8</td>\n      <td>Wii Play</td>\n      <td>Wii</td>\n      <td>2006.0</td>\n      <td>Misc</td>\n      <td>Nintendo</td>\n      <td>14.03</td>\n      <td>9.20</td>\n      <td>2.93</td>\n      <td>2.85</td>\n      <td>29.02</td>\n    </tr>\n    <tr>\n      <th>8</th>\n      <td>9</td>\n      <td>New Super Mario Bros. Wii</td>\n      <td>Wii</td>\n      <td>2009.0</td>\n      <td>Platform</td>\n      <td>Nintendo</td>\n      <td>14.59</td>\n      <td>7.06</td>\n      <td>4.70</td>\n      <td>2.26</td>\n      <td>28.62</td>\n    </tr>\n    <tr>\n      <th>9</th>\n      <td>10</td>\n      <td>Duck Hunt</td>\n      <td>NES</td>\n      <td>1984.0</td>\n      <td>Shooter</td>\n      <td>Nintendo</td>\n      <td>26.93</td>\n      <td>0.63</td>\n      <td>0.28</td>\n      <td>0.47</td>\n      <td>28.31</td>\n    </tr>\n    <tr>\n      <th>10</th>\n      <td>11</td>\n      <td>Nintendogs</td>\n      <td>DS</td>\n      <td>2005.0</td>\n      <td>Simulation</td>\n      <td>Nintendo</td>\n      <td>9.07</td>\n      <td>11.00</td>\n      <td>1.93</td>\n      <td>2.75</td>\n      <td>24.76</td>\n    </tr>\n    <tr>\n      <th>11</th>\n      <td>12</td>\n      <td>Mario Kart DS</td>\n      <td>DS</td>\n      <td>2005.0</td>\n      <td>Racing</td>\n      <td>Nintendo</td>\n      <td>9.81</td>\n      <td>7.57</td>\n      <td>4.13</td>\n      <td>1.92</td>\n      <td>23.42</td>\n    </tr>\n    <tr>\n      <th>12</th>\n      <td>13</td>\n      <td>Pokemon Gold/Pokemon Silver</td>\n      <td>GB</td>\n      <td>1999.0</td>\n      <td>Role-Playing</td>\n      <td>Nintendo</td>\n      <td>9.00</td>\n      <td>6.18</td>\n      <td>7.20</td>\n      <td>0.71</td>\n      <td>23.10</td>\n    </tr>\n    <tr>\n      <th>13</th>\n      <td>14</td>\n      <td>Wii Fit</td>\n      <td>Wii</td>\n      <td>2007.0</td>\n      <td>Sports</td>\n      <td>Nintendo</td>\n      <td>8.94</td>\n      <td>8.03</td>\n      <td>3.60</td>\n      <td>2.15</td>\n      <td>22.72</td>\n    </tr>\n    <tr>\n      <th>14</th>\n      <td>15</td>\n      <td>Wii Fit Plus</td>\n      <td>Wii</td>\n      <td>2009.0</td>\n      <td>Sports</td>\n      <td>Nintendo</td>\n      <td>9.09</td>\n      <td>8.59</td>\n      <td>2.53</td>\n      <td>1.79</td>\n      <td>22.00</td>\n    </tr>\n    <tr>\n      <th>15</th>\n      <td>16</td>\n      <td>Kinect Adventures!</td>\n      <td>X360</td>\n      <td>2010.0</td>\n      <td>Misc</td>\n      <td>Microsoft Game Studios</td>\n      <td>14.97</td>\n      <td>4.94</td>\n      <td>0.24</td>\n      <td>1.67</td>\n      <td>21.82</td>\n    </tr>\n    <tr>\n      <th>16</th>\n      <td>17</td>\n      <td>Grand Theft Auto V</td>\n      <td>PS3</td>\n      <td>2013.0</td>\n      <td>Action</td>\n      <td>Take-Two Interactive</td>\n      <td>7.01</td>\n      <td>9.27</td>\n      <td>0.97</td>\n      <td>4.14</td>\n      <td>21.40</td>\n    </tr>\n    <tr>\n      <th>17</th>\n      <td>18</td>\n      <td>Grand Theft Auto: San Andreas</td>\n      <td>PS2</td>\n      <td>2004.0</td>\n      <td>Action</td>\n      <td>Take-Two Interactive</td>\n      <td>9.43</td>\n      <td>0.40</td>\n      <td>0.41</td>\n      <td>10.57</td>\n      <td>20.81</td>\n    </tr>\n    <tr>\n      <th>18</th>\n      <td>19</td>\n      <td>Super Mario World</td>\n      <td>SNES</td>\n      <td>1990.0</td>\n      <td>Platform</td>\n      <td>Nintendo</td>\n      <td>12.78</td>\n      <td>3.75</td>\n      <td>3.54</td>\n      <td>0.55</td>\n      <td>20.61</td>\n    </tr>\n    <tr>\n      <th>19</th>\n      <td>20</td>\n      <td>Brain Age: Train Your Brain in Minutes a Day</td>\n      <td>DS</td>\n      <td>2005.0</td>\n      <td>Misc</td>\n      <td>Nintendo</td>\n      <td>4.75</td>\n      <td>9.26</td>\n      <td>4.16</td>\n      <td>2.05</td>\n      <td>20.22</td>\n    </tr>\n  </tbody>\n</table>\n</div>"
     },
     "metadata": {},
     "execution_count": 23
    }
   ],
   "source": [
    "sorted_by_gross.head(20)"
   ]
  },
  {
   "cell_type": "code",
   "execution_count": 28,
   "metadata": {},
   "outputs": [],
   "source": [
    "# For North American video game sales, what’s the median?"
   ]
  },
  {
   "cell_type": "code",
   "execution_count": 29,
   "metadata": {},
   "outputs": [],
   "source": [
    "sorted_by_na_sales = vg_df.sort_values('NA_Sales', ascending=False)"
   ]
  },
  {
   "cell_type": "code",
   "execution_count": 31,
   "metadata": {},
   "outputs": [],
   "source": [
    "na_sales_median = sorted_by_na_sales.median()"
   ]
  },
  {
   "cell_type": "code",
   "execution_count": 32,
   "metadata": {},
   "outputs": [
    {
     "output_type": "execute_result",
     "data": {
      "text/plain": "0.08"
     },
     "metadata": {},
     "execution_count": 32
    }
   ],
   "source": [
    "na_sales_median['NA_Sales']"
   ]
  },
  {
   "cell_type": "code",
   "execution_count": 33,
   "metadata": {},
   "outputs": [],
   "source": [
    "# Provide a secondary output showing ten games surrounding the median sales output"
   ]
  },
  {
   "cell_type": "code",
   "execution_count": 34,
   "metadata": {},
   "outputs": [],
   "source": [
    "median_index = (sorted_by_na_sales.shape[0] + 1) // 2"
   ]
  },
  {
   "cell_type": "code",
   "execution_count": 35,
   "metadata": {},
   "outputs": [
    {
     "output_type": "execute_result",
     "data": {
      "text/plain": "8299"
     },
     "metadata": {},
     "execution_count": 35
    }
   ],
   "source": [
    "median_index"
   ]
  },
  {
   "cell_type": "code",
   "execution_count": 36,
   "metadata": {},
   "outputs": [
    {
     "output_type": "execute_result",
     "data": {
      "text/plain": "Rank                     9194\nName            Dino Crisis 3\nPlatform                   XB\nYear                     2003\nGenre                  Action\nPublisher              Capcom\nNA_Sales                 0.08\nEU_Sales                 0.03\nJP_Sales                 0.03\nOther_Sales                 0\nGlobal_Sales             0.14\nName: 9192, dtype: object"
     },
     "metadata": {},
     "execution_count": 36
    }
   ],
   "source": [
    "sorted_by_na_sales.iloc[median_index]"
   ]
  },
  {
   "cell_type": "code",
   "execution_count": 37,
   "metadata": {},
   "outputs": [
    {
     "output_type": "execute_result",
     "data": {
      "text/plain": "        Rank                                              Name Platform  \\\n10802  10804                Bladestorm: The Hundred Years' War     X360   \n9569    9571                             Batman: Arkham Knight       PC   \n8550    8552     Wakeboarding Unleashed Featuring Shaun Murray      PS2   \n10799  10801                                         Mind Quiz      PSP   \n9197    9199                      The Walking Dead: Season Two     XOne   \n9192    9194                                     Dino Crisis 3       XB   \n10181  10183                              Smash Court Tennis 3     X360   \n8802    8804  Disney's The Lion King: Simba's Mighty Adventure       PS   \n8724    8726                                            Driven      PS2   \n10793  10795                                      Glory Days 2       DS   \n10298  10300                    National Geographic Challenge!      Wii   \n\n         Year      Genre                               Publisher  NA_Sales  \\\n10802  2007.0     Action                              Tecmo Koei      0.08   \n9569   2015.0     Action  Warner Bros. Interactive Entertainment      0.08   \n8550   2003.0     Sports                              Activision      0.08   \n10799  2006.0     Action                                 Ubisoft      0.08   \n9197   2014.0  Adventure                          Telltale Games      0.08   \n9192   2003.0     Action                                  Capcom      0.08   \n10181  2007.0     Sports                                   Atari      0.08   \n8802   2000.0     Action                              Activision      0.08   \n8724   2001.0     Racing                      BAM! Entertainment      0.08   \n10793  2007.0   Strategy                              Ghostlight      0.08   \n10298  2011.0       Misc                        Black Bean Games      0.08   \n\n       EU_Sales  JP_Sales  Other_Sales  Global_Sales  \n10802      0.01      0.00         0.01          0.10  \n9569       0.03      0.00         0.01          0.13  \n8550       0.06      0.00         0.02          0.16  \n10799      0.01      0.00         0.01          0.10  \n9197       0.05      0.00         0.01          0.14  \n9192       0.03      0.03         0.00          0.14  \n10181      0.02      0.00         0.01          0.11  \n8802       0.06      0.00         0.01          0.15  \n8724       0.06      0.00         0.02          0.15  \n10793      0.00      0.00         0.01          0.10  \n10298      0.02      0.00         0.01          0.11  ",
      "text/html": "<div>\n<style scoped>\n    .dataframe tbody tr th:only-of-type {\n        vertical-align: middle;\n    }\n\n    .dataframe tbody tr th {\n        vertical-align: top;\n    }\n\n    .dataframe thead th {\n        text-align: right;\n    }\n</style>\n<table border=\"1\" class=\"dataframe\">\n  <thead>\n    <tr style=\"text-align: right;\">\n      <th></th>\n      <th>Rank</th>\n      <th>Name</th>\n      <th>Platform</th>\n      <th>Year</th>\n      <th>Genre</th>\n      <th>Publisher</th>\n      <th>NA_Sales</th>\n      <th>EU_Sales</th>\n      <th>JP_Sales</th>\n      <th>Other_Sales</th>\n      <th>Global_Sales</th>\n    </tr>\n  </thead>\n  <tbody>\n    <tr>\n      <th>10802</th>\n      <td>10804</td>\n      <td>Bladestorm: The Hundred Years' War</td>\n      <td>X360</td>\n      <td>2007.0</td>\n      <td>Action</td>\n      <td>Tecmo Koei</td>\n      <td>0.08</td>\n      <td>0.01</td>\n      <td>0.00</td>\n      <td>0.01</td>\n      <td>0.10</td>\n    </tr>\n    <tr>\n      <th>9569</th>\n      <td>9571</td>\n      <td>Batman: Arkham Knight</td>\n      <td>PC</td>\n      <td>2015.0</td>\n      <td>Action</td>\n      <td>Warner Bros. Interactive Entertainment</td>\n      <td>0.08</td>\n      <td>0.03</td>\n      <td>0.00</td>\n      <td>0.01</td>\n      <td>0.13</td>\n    </tr>\n    <tr>\n      <th>8550</th>\n      <td>8552</td>\n      <td>Wakeboarding Unleashed Featuring Shaun Murray</td>\n      <td>PS2</td>\n      <td>2003.0</td>\n      <td>Sports</td>\n      <td>Activision</td>\n      <td>0.08</td>\n      <td>0.06</td>\n      <td>0.00</td>\n      <td>0.02</td>\n      <td>0.16</td>\n    </tr>\n    <tr>\n      <th>10799</th>\n      <td>10801</td>\n      <td>Mind Quiz</td>\n      <td>PSP</td>\n      <td>2006.0</td>\n      <td>Action</td>\n      <td>Ubisoft</td>\n      <td>0.08</td>\n      <td>0.01</td>\n      <td>0.00</td>\n      <td>0.01</td>\n      <td>0.10</td>\n    </tr>\n    <tr>\n      <th>9197</th>\n      <td>9199</td>\n      <td>The Walking Dead: Season Two</td>\n      <td>XOne</td>\n      <td>2014.0</td>\n      <td>Adventure</td>\n      <td>Telltale Games</td>\n      <td>0.08</td>\n      <td>0.05</td>\n      <td>0.00</td>\n      <td>0.01</td>\n      <td>0.14</td>\n    </tr>\n    <tr>\n      <th>9192</th>\n      <td>9194</td>\n      <td>Dino Crisis 3</td>\n      <td>XB</td>\n      <td>2003.0</td>\n      <td>Action</td>\n      <td>Capcom</td>\n      <td>0.08</td>\n      <td>0.03</td>\n      <td>0.03</td>\n      <td>0.00</td>\n      <td>0.14</td>\n    </tr>\n    <tr>\n      <th>10181</th>\n      <td>10183</td>\n      <td>Smash Court Tennis 3</td>\n      <td>X360</td>\n      <td>2007.0</td>\n      <td>Sports</td>\n      <td>Atari</td>\n      <td>0.08</td>\n      <td>0.02</td>\n      <td>0.00</td>\n      <td>0.01</td>\n      <td>0.11</td>\n    </tr>\n    <tr>\n      <th>8802</th>\n      <td>8804</td>\n      <td>Disney's The Lion King: Simba's Mighty Adventure</td>\n      <td>PS</td>\n      <td>2000.0</td>\n      <td>Action</td>\n      <td>Activision</td>\n      <td>0.08</td>\n      <td>0.06</td>\n      <td>0.00</td>\n      <td>0.01</td>\n      <td>0.15</td>\n    </tr>\n    <tr>\n      <th>8724</th>\n      <td>8726</td>\n      <td>Driven</td>\n      <td>PS2</td>\n      <td>2001.0</td>\n      <td>Racing</td>\n      <td>BAM! Entertainment</td>\n      <td>0.08</td>\n      <td>0.06</td>\n      <td>0.00</td>\n      <td>0.02</td>\n      <td>0.15</td>\n    </tr>\n    <tr>\n      <th>10793</th>\n      <td>10795</td>\n      <td>Glory Days 2</td>\n      <td>DS</td>\n      <td>2007.0</td>\n      <td>Strategy</td>\n      <td>Ghostlight</td>\n      <td>0.08</td>\n      <td>0.00</td>\n      <td>0.00</td>\n      <td>0.01</td>\n      <td>0.10</td>\n    </tr>\n    <tr>\n      <th>10298</th>\n      <td>10300</td>\n      <td>National Geographic Challenge!</td>\n      <td>Wii</td>\n      <td>2011.0</td>\n      <td>Misc</td>\n      <td>Black Bean Games</td>\n      <td>0.08</td>\n      <td>0.02</td>\n      <td>0.00</td>\n      <td>0.01</td>\n      <td>0.11</td>\n    </tr>\n  </tbody>\n</table>\n</div>"
     },
     "metadata": {},
     "execution_count": 37
    }
   ],
   "source": [
    "sorted_by_na_sales.iloc[median_index - 5:  median_index + 6 ]"
   ]
  },
  {
   "cell_type": "code",
   "execution_count": 45,
   "metadata": {},
   "outputs": [],
   "source": [
    "# For the top-selling game of all time, how many standard deviations above/below the mean are its sales for North America?"
   ]
  },
  {
   "cell_type": "code",
   "execution_count": 46,
   "metadata": {},
   "outputs": [],
   "source": [
    "sorted_by_top_game = vg_df.sort_values('Global_Sales', ascending=False)"
   ]
  },
  {
   "cell_type": "code",
   "execution_count": 47,
   "metadata": {},
   "outputs": [
    {
     "output_type": "execute_result",
     "data": {
      "text/plain": "   Rank        Name Platform    Year   Genre Publisher  NA_Sales  EU_Sales  \\\n0     1  Wii Sports      Wii  2006.0  Sports  Nintendo     41.49     29.02   \n\n   JP_Sales  Other_Sales  Global_Sales  \n0      3.77         8.46         82.74  ",
      "text/html": "<div>\n<style scoped>\n    .dataframe tbody tr th:only-of-type {\n        vertical-align: middle;\n    }\n\n    .dataframe tbody tr th {\n        vertical-align: top;\n    }\n\n    .dataframe thead th {\n        text-align: right;\n    }\n</style>\n<table border=\"1\" class=\"dataframe\">\n  <thead>\n    <tr style=\"text-align: right;\">\n      <th></th>\n      <th>Rank</th>\n      <th>Name</th>\n      <th>Platform</th>\n      <th>Year</th>\n      <th>Genre</th>\n      <th>Publisher</th>\n      <th>NA_Sales</th>\n      <th>EU_Sales</th>\n      <th>JP_Sales</th>\n      <th>Other_Sales</th>\n      <th>Global_Sales</th>\n    </tr>\n  </thead>\n  <tbody>\n    <tr>\n      <th>0</th>\n      <td>1</td>\n      <td>Wii Sports</td>\n      <td>Wii</td>\n      <td>2006.0</td>\n      <td>Sports</td>\n      <td>Nintendo</td>\n      <td>41.49</td>\n      <td>29.02</td>\n      <td>3.77</td>\n      <td>8.46</td>\n      <td>82.74</td>\n    </tr>\n  </tbody>\n</table>\n</div>"
     },
     "metadata": {},
     "execution_count": 47
    }
   ],
   "source": [
    "sorted_by_top_game[:1]"
   ]
  },
  {
   "cell_type": "code",
   "execution_count": 48,
   "metadata": {},
   "outputs": [],
   "source": [
    "\n",
    "mean_sales = np.mean(sorted_by_top_game)"
   ]
  },
  {
   "cell_type": "code",
   "execution_count": 49,
   "metadata": {},
   "outputs": [],
   "source": [
    "mean_sales = mean_sales['Global_Sales']"
   ]
  },
  {
   "cell_type": "code",
   "execution_count": 50,
   "metadata": {},
   "outputs": [
    {
     "output_type": "execute_result",
     "data": {
      "text/plain": "0.5374406555006628"
     },
     "metadata": {},
     "execution_count": 50
    }
   ],
   "source": [
    "mean_sales\n"
   ]
  },
  {
   "cell_type": "code",
   "execution_count": 51,
   "metadata": {},
   "outputs": [],
   "source": [
    "deviation_sales = np.std(sorted_by_top_game)"
   ]
  },
  {
   "cell_type": "code",
   "execution_count": 52,
   "metadata": {},
   "outputs": [],
   "source": [
    "deviation_sales = deviation_sales['Global_Sales']"
   ]
  },
  {
   "cell_type": "code",
   "execution_count": 53,
   "metadata": {},
   "outputs": [
    {
     "output_type": "execute_result",
     "data": {
      "text/plain": "1.5549810910296606"
     },
     "metadata": {},
     "execution_count": 53
    }
   ],
   "source": [
    "deviation_sales"
   ]
  },
  {
   "cell_type": "code",
   "execution_count": 54,
   "metadata": {},
   "outputs": [],
   "source": [
    "# (Top Game global sales - mean for global sales) / deviation_sales"
   ]
  },
  {
   "cell_type": "code",
   "execution_count": null,
   "metadata": {},
   "outputs": [],
   "source": []
  },
  {
   "cell_type": "code",
   "execution_count": 55,
   "metadata": {},
   "outputs": [],
   "source": [
    "top_game_sales = sorted_by_top_game.loc[0]['Global_Sales']"
   ]
  },
  {
   "cell_type": "code",
   "execution_count": 56,
   "metadata": {},
   "outputs": [
    {
     "output_type": "execute_result",
     "data": {
      "text/plain": "82.74"
     },
     "metadata": {},
     "execution_count": 56
    }
   ],
   "source": [
    "top_game_sales"
   ]
  },
  {
   "cell_type": "code",
   "execution_count": 57,
   "metadata": {},
   "outputs": [],
   "source": [
    "result = ((top_game_sales - mean_sales) / deviation_sales)"
   ]
  },
  {
   "cell_type": "code",
   "execution_count": 58,
   "metadata": {},
   "outputs": [
    {
     "output_type": "execute_result",
     "data": {
      "text/plain": "52.864025047447576"
     },
     "metadata": {},
     "execution_count": 58
    }
   ],
   "source": [
    "\n",
    "result"
   ]
  },
  {
   "cell_type": "code",
   "execution_count": 59,
   "metadata": {},
   "outputs": [],
   "source": [
    "# How does Nintendo Wii's average number of sales compare with all of the other platforms?"
   ]
  },
  {
   "cell_type": "code",
   "execution_count": 60,
   "metadata": {},
   "outputs": [],
   "source": [
    "wii_data = vg_df[vg_df['Platform'] == 'Wii']"
   ]
  },
  {
   "cell_type": "code",
   "execution_count": 61,
   "metadata": {},
   "outputs": [
    {
     "output_type": "execute_result",
     "data": {
      "text/plain": "        Rank                                               Name Platform  \\\n0          1                                         Wii Sports      Wii   \n2          3                                     Mario Kart Wii      Wii   \n3          4                                  Wii Sports Resort      Wii   \n7          8                                           Wii Play      Wii   \n8          9                          New Super Mario Bros. Wii      Wii   \n...      ...                                                ...      ...   \n16517  16520                       Teenage Mutant Ninja Turtles      Wii   \n16552  16555           Mahou Sensei Negima!? Neo-Pactio Fight!!      Wii   \n16573  16576                                Mini Desktop Racing      Wii   \n16574  16577  Yattaman Wii: BikkuriDokkiri Machine de Mou Ra...      Wii   \n16581  16584                                          Fit & Fun      Wii   \n\n         Year     Genre                     Publisher  NA_Sales  EU_Sales  \\\n0      2006.0    Sports                      Nintendo     41.49     29.02   \n2      2008.0    Racing                      Nintendo     15.85     12.88   \n3      2009.0    Sports                      Nintendo     15.75     11.01   \n7      2006.0      Misc                      Nintendo     14.03      9.20   \n8      2009.0  Platform                      Nintendo     14.59      7.06   \n...       ...       ...                           ...       ...       ...   \n16517  2007.0    Action  Konami Digital Entertainment      0.00      0.01   \n16552  2007.0  Fighting         Marvelous Interactive      0.00      0.00   \n16573  2007.0    Racing                Popcorn Arcade      0.01      0.00   \n16574  2008.0    Racing                   Takara Tomy      0.00      0.00   \n16581  2011.0    Sports                       Unknown      0.00      0.01   \n\n       JP_Sales  Other_Sales  Global_Sales  \n0          3.77         8.46         82.74  \n2          3.79         3.31         35.82  \n3          3.28         2.96         33.00  \n7          2.93         2.85         29.02  \n8          4.70         2.26         28.62  \n...         ...          ...           ...  \n16517      0.00         0.00          0.01  \n16552      0.01         0.00          0.01  \n16573      0.00         0.00          0.01  \n16574      0.01         0.00          0.01  \n16581      0.00         0.00          0.01  \n\n[1325 rows x 11 columns]",
      "text/html": "<div>\n<style scoped>\n    .dataframe tbody tr th:only-of-type {\n        vertical-align: middle;\n    }\n\n    .dataframe tbody tr th {\n        vertical-align: top;\n    }\n\n    .dataframe thead th {\n        text-align: right;\n    }\n</style>\n<table border=\"1\" class=\"dataframe\">\n  <thead>\n    <tr style=\"text-align: right;\">\n      <th></th>\n      <th>Rank</th>\n      <th>Name</th>\n      <th>Platform</th>\n      <th>Year</th>\n      <th>Genre</th>\n      <th>Publisher</th>\n      <th>NA_Sales</th>\n      <th>EU_Sales</th>\n      <th>JP_Sales</th>\n      <th>Other_Sales</th>\n      <th>Global_Sales</th>\n    </tr>\n  </thead>\n  <tbody>\n    <tr>\n      <th>0</th>\n      <td>1</td>\n      <td>Wii Sports</td>\n      <td>Wii</td>\n      <td>2006.0</td>\n      <td>Sports</td>\n      <td>Nintendo</td>\n      <td>41.49</td>\n      <td>29.02</td>\n      <td>3.77</td>\n      <td>8.46</td>\n      <td>82.74</td>\n    </tr>\n    <tr>\n      <th>2</th>\n      <td>3</td>\n      <td>Mario Kart Wii</td>\n      <td>Wii</td>\n      <td>2008.0</td>\n      <td>Racing</td>\n      <td>Nintendo</td>\n      <td>15.85</td>\n      <td>12.88</td>\n      <td>3.79</td>\n      <td>3.31</td>\n      <td>35.82</td>\n    </tr>\n    <tr>\n      <th>3</th>\n      <td>4</td>\n      <td>Wii Sports Resort</td>\n      <td>Wii</td>\n      <td>2009.0</td>\n      <td>Sports</td>\n      <td>Nintendo</td>\n      <td>15.75</td>\n      <td>11.01</td>\n      <td>3.28</td>\n      <td>2.96</td>\n      <td>33.00</td>\n    </tr>\n    <tr>\n      <th>7</th>\n      <td>8</td>\n      <td>Wii Play</td>\n      <td>Wii</td>\n      <td>2006.0</td>\n      <td>Misc</td>\n      <td>Nintendo</td>\n      <td>14.03</td>\n      <td>9.20</td>\n      <td>2.93</td>\n      <td>2.85</td>\n      <td>29.02</td>\n    </tr>\n    <tr>\n      <th>8</th>\n      <td>9</td>\n      <td>New Super Mario Bros. Wii</td>\n      <td>Wii</td>\n      <td>2009.0</td>\n      <td>Platform</td>\n      <td>Nintendo</td>\n      <td>14.59</td>\n      <td>7.06</td>\n      <td>4.70</td>\n      <td>2.26</td>\n      <td>28.62</td>\n    </tr>\n    <tr>\n      <th>...</th>\n      <td>...</td>\n      <td>...</td>\n      <td>...</td>\n      <td>...</td>\n      <td>...</td>\n      <td>...</td>\n      <td>...</td>\n      <td>...</td>\n      <td>...</td>\n      <td>...</td>\n      <td>...</td>\n    </tr>\n    <tr>\n      <th>16517</th>\n      <td>16520</td>\n      <td>Teenage Mutant Ninja Turtles</td>\n      <td>Wii</td>\n      <td>2007.0</td>\n      <td>Action</td>\n      <td>Konami Digital Entertainment</td>\n      <td>0.00</td>\n      <td>0.01</td>\n      <td>0.00</td>\n      <td>0.00</td>\n      <td>0.01</td>\n    </tr>\n    <tr>\n      <th>16552</th>\n      <td>16555</td>\n      <td>Mahou Sensei Negima!? Neo-Pactio Fight!!</td>\n      <td>Wii</td>\n      <td>2007.0</td>\n      <td>Fighting</td>\n      <td>Marvelous Interactive</td>\n      <td>0.00</td>\n      <td>0.00</td>\n      <td>0.01</td>\n      <td>0.00</td>\n      <td>0.01</td>\n    </tr>\n    <tr>\n      <th>16573</th>\n      <td>16576</td>\n      <td>Mini Desktop Racing</td>\n      <td>Wii</td>\n      <td>2007.0</td>\n      <td>Racing</td>\n      <td>Popcorn Arcade</td>\n      <td>0.01</td>\n      <td>0.00</td>\n      <td>0.00</td>\n      <td>0.00</td>\n      <td>0.01</td>\n    </tr>\n    <tr>\n      <th>16574</th>\n      <td>16577</td>\n      <td>Yattaman Wii: BikkuriDokkiri Machine de Mou Ra...</td>\n      <td>Wii</td>\n      <td>2008.0</td>\n      <td>Racing</td>\n      <td>Takara Tomy</td>\n      <td>0.00</td>\n      <td>0.00</td>\n      <td>0.01</td>\n      <td>0.00</td>\n      <td>0.01</td>\n    </tr>\n    <tr>\n      <th>16581</th>\n      <td>16584</td>\n      <td>Fit &amp; Fun</td>\n      <td>Wii</td>\n      <td>2011.0</td>\n      <td>Sports</td>\n      <td>Unknown</td>\n      <td>0.00</td>\n      <td>0.01</td>\n      <td>0.00</td>\n      <td>0.00</td>\n      <td>0.01</td>\n    </tr>\n  </tbody>\n</table>\n<p>1325 rows × 11 columns</p>\n</div>"
     },
     "metadata": {},
     "execution_count": 61
    }
   ],
   "source": [
    "wii_data"
   ]
  },
  {
   "cell_type": "code",
   "execution_count": 62,
   "metadata": {},
   "outputs": [],
   "source": [
    "wii_mean_sales = np.mean(wii_data['Global_Sales'])"
   ]
  },
  {
   "cell_type": "code",
   "execution_count": 63,
   "metadata": {},
   "outputs": [
    {
     "output_type": "execute_result",
     "data": {
      "text/plain": "0.6994037735849057"
     },
     "metadata": {},
     "execution_count": 63
    }
   ],
   "source": [
    "wii_mean_sales"
   ]
  },
  {
   "cell_type": "code",
   "execution_count": 66,
   "metadata": {},
   "outputs": [],
   "source": [
    "all_mean_sales = np.mean(vg_df['Global_Sales'])"
   ]
  },
  {
   "cell_type": "code",
   "execution_count": 67,
   "metadata": {},
   "outputs": [
    {
     "output_type": "execute_result",
     "data": {
      "text/plain": "0.5374406555006628"
     },
     "metadata": {},
     "execution_count": 67
    }
   ],
   "source": [
    "all_mean_sales"
   ]
  },
  {
   "cell_type": "code",
   "execution_count": 68,
   "metadata": {},
   "outputs": [],
   "source": [
    "all_max_sales = np.max(vg_df['Global_Sales'])"
   ]
  },
  {
   "cell_type": "code",
   "execution_count": 69,
   "metadata": {},
   "outputs": [
    {
     "output_type": "execute_result",
     "data": {
      "text/plain": "82.74"
     },
     "metadata": {},
     "execution_count": 69
    }
   ],
   "source": [
    "all_max_sales"
   ]
  },
  {
   "cell_type": "code",
   "execution_count": 70,
   "metadata": {},
   "outputs": [],
   "source": [
    "\n",
    "all_min_sales = np.min(vg_df['Global_Sales'])"
   ]
  },
  {
   "cell_type": "code",
   "execution_count": 71,
   "metadata": {},
   "outputs": [
    {
     "output_type": "execute_result",
     "data": {
      "text/plain": "0.01"
     },
     "metadata": {},
     "execution_count": 71
    }
   ],
   "source": [
    "all_min_sales"
   ]
  },
  {
   "cell_type": "code",
   "execution_count": 72,
   "metadata": {},
   "outputs": [],
   "source": [
    "#### wii average price compare to all game average price:"
   ]
  },
  {
   "cell_type": "code",
   "execution_count": 73,
   "metadata": {},
   "outputs": [],
   "source": [
    "result = wii_mean_sales - all_mean_sales"
   ]
  },
  {
   "cell_type": "code",
   "execution_count": 74,
   "metadata": {},
   "outputs": [
    {
     "output_type": "execute_result",
     "data": {
      "text/plain": "0.1619631180842429"
     },
     "metadata": {},
     "execution_count": 74
    }
   ],
   "source": [
    "result"
   ]
  },
  {
   "cell_type": "code",
   "execution_count": 75,
   "metadata": {},
   "outputs": [],
   "source": [
    "# Show 10 oldest games from the dataset by year"
   ]
  },
  {
   "cell_type": "code",
   "execution_count": 76,
   "metadata": {},
   "outputs": [],
   "source": [
    "sorted_by_year = vg_df.sort_values('Year', ascending=True)"
   ]
  },
  {
   "cell_type": "code",
   "execution_count": 77,
   "metadata": {},
   "outputs": [
    {
     "output_type": "execute_result",
     "data": {
      "text/plain": "      Rank             Name Platform    Year     Genre   Publisher  NA_Sales  \\\n6896  6898         Checkers     2600  1980.0      Misc       Atari      0.22   \n2669  2671           Boxing     2600  1980.0  Fighting  Activision      0.72   \n5366  5368          Freeway     2600  1980.0    Action  Activision      0.32   \n1969  1971         Defender     2600  1980.0      Misc       Atari      0.99   \n1766  1768          Kaboom!     2600  1980.0      Misc  Activision      1.07   \n6317  6319           Bridge     2600  1980.0      Misc  Activision      0.25   \n544    545  Missile Command     2600  1980.0   Shooter       Atari      2.56   \n258    259        Asteroids     2600  1980.0   Shooter       Atari      4.00   \n4025  4027       Ice Hockey     2600  1980.0    Sports  Activision      0.46   \n4517  4519     Barnstorming     2600  1981.0    Action  Activision      0.40   \n\n      EU_Sales  JP_Sales  Other_Sales  Global_Sales  \n6896      0.01       0.0         0.00          0.24  \n2669      0.04       0.0         0.01          0.77  \n5366      0.02       0.0         0.00          0.34  \n1969      0.05       0.0         0.01          1.05  \n1766      0.07       0.0         0.01          1.15  \n6317      0.02       0.0         0.00          0.27  \n544       0.17       0.0         0.03          2.76  \n258       0.26       0.0         0.05          4.31  \n4025      0.03       0.0         0.01          0.49  \n4517      0.02       0.0         0.00          0.43  ",
      "text/html": "<div>\n<style scoped>\n    .dataframe tbody tr th:only-of-type {\n        vertical-align: middle;\n    }\n\n    .dataframe tbody tr th {\n        vertical-align: top;\n    }\n\n    .dataframe thead th {\n        text-align: right;\n    }\n</style>\n<table border=\"1\" class=\"dataframe\">\n  <thead>\n    <tr style=\"text-align: right;\">\n      <th></th>\n      <th>Rank</th>\n      <th>Name</th>\n      <th>Platform</th>\n      <th>Year</th>\n      <th>Genre</th>\n      <th>Publisher</th>\n      <th>NA_Sales</th>\n      <th>EU_Sales</th>\n      <th>JP_Sales</th>\n      <th>Other_Sales</th>\n      <th>Global_Sales</th>\n    </tr>\n  </thead>\n  <tbody>\n    <tr>\n      <th>6896</th>\n      <td>6898</td>\n      <td>Checkers</td>\n      <td>2600</td>\n      <td>1980.0</td>\n      <td>Misc</td>\n      <td>Atari</td>\n      <td>0.22</td>\n      <td>0.01</td>\n      <td>0.0</td>\n      <td>0.00</td>\n      <td>0.24</td>\n    </tr>\n    <tr>\n      <th>2669</th>\n      <td>2671</td>\n      <td>Boxing</td>\n      <td>2600</td>\n      <td>1980.0</td>\n      <td>Fighting</td>\n      <td>Activision</td>\n      <td>0.72</td>\n      <td>0.04</td>\n      <td>0.0</td>\n      <td>0.01</td>\n      <td>0.77</td>\n    </tr>\n    <tr>\n      <th>5366</th>\n      <td>5368</td>\n      <td>Freeway</td>\n      <td>2600</td>\n      <td>1980.0</td>\n      <td>Action</td>\n      <td>Activision</td>\n      <td>0.32</td>\n      <td>0.02</td>\n      <td>0.0</td>\n      <td>0.00</td>\n      <td>0.34</td>\n    </tr>\n    <tr>\n      <th>1969</th>\n      <td>1971</td>\n      <td>Defender</td>\n      <td>2600</td>\n      <td>1980.0</td>\n      <td>Misc</td>\n      <td>Atari</td>\n      <td>0.99</td>\n      <td>0.05</td>\n      <td>0.0</td>\n      <td>0.01</td>\n      <td>1.05</td>\n    </tr>\n    <tr>\n      <th>1766</th>\n      <td>1768</td>\n      <td>Kaboom!</td>\n      <td>2600</td>\n      <td>1980.0</td>\n      <td>Misc</td>\n      <td>Activision</td>\n      <td>1.07</td>\n      <td>0.07</td>\n      <td>0.0</td>\n      <td>0.01</td>\n      <td>1.15</td>\n    </tr>\n    <tr>\n      <th>6317</th>\n      <td>6319</td>\n      <td>Bridge</td>\n      <td>2600</td>\n      <td>1980.0</td>\n      <td>Misc</td>\n      <td>Activision</td>\n      <td>0.25</td>\n      <td>0.02</td>\n      <td>0.0</td>\n      <td>0.00</td>\n      <td>0.27</td>\n    </tr>\n    <tr>\n      <th>544</th>\n      <td>545</td>\n      <td>Missile Command</td>\n      <td>2600</td>\n      <td>1980.0</td>\n      <td>Shooter</td>\n      <td>Atari</td>\n      <td>2.56</td>\n      <td>0.17</td>\n      <td>0.0</td>\n      <td>0.03</td>\n      <td>2.76</td>\n    </tr>\n    <tr>\n      <th>258</th>\n      <td>259</td>\n      <td>Asteroids</td>\n      <td>2600</td>\n      <td>1980.0</td>\n      <td>Shooter</td>\n      <td>Atari</td>\n      <td>4.00</td>\n      <td>0.26</td>\n      <td>0.0</td>\n      <td>0.05</td>\n      <td>4.31</td>\n    </tr>\n    <tr>\n      <th>4025</th>\n      <td>4027</td>\n      <td>Ice Hockey</td>\n      <td>2600</td>\n      <td>1980.0</td>\n      <td>Sports</td>\n      <td>Activision</td>\n      <td>0.46</td>\n      <td>0.03</td>\n      <td>0.0</td>\n      <td>0.01</td>\n      <td>0.49</td>\n    </tr>\n    <tr>\n      <th>4517</th>\n      <td>4519</td>\n      <td>Barnstorming</td>\n      <td>2600</td>\n      <td>1981.0</td>\n      <td>Action</td>\n      <td>Activision</td>\n      <td>0.40</td>\n      <td>0.02</td>\n      <td>0.0</td>\n      <td>0.00</td>\n      <td>0.43</td>\n    </tr>\n  </tbody>\n</table>\n</div>"
     },
     "metadata": {},
     "execution_count": 77
    }
   ],
   "source": [
    "sorted_by_year.head(10)"
   ]
  },
  {
   "cell_type": "code",
   "execution_count": 78,
   "metadata": {},
   "outputs": [],
   "source": [
    "# Show all Sega games"
   ]
  },
  {
   "cell_type": "code",
   "execution_count": 79,
   "metadata": {},
   "outputs": [],
   "source": [
    "sega_games = vg_df[vg_df['Publisher'] == 'Sega']"
   ]
  },
  {
   "cell_type": "code",
   "execution_count": 80,
   "metadata": {},
   "outputs": [
    {
     "output_type": "execute_result",
     "data": {
      "text/plain": "        Rank                                       Name Platform    Year  \\\n85        86         Mario & Sonic at the Olympic Games      Wii  2007.0   \n143      144                       Sonic the Hedgehog 2      GEN  1992.0   \n189      190         Mario & Sonic at the Olympic Games       DS  2008.0   \n233      234  Mario & Sonic at the Olympic Winter Games      Wii  2009.0   \n254      255                         Sonic the Hedgehog      GEN  1991.0   \n...      ...                                        ...      ...     ...   \n16306  16309                   Full Auto 2: Battlelines      PSP  2007.0   \n16351  16354               World Snooker Challenge 2005      PSP  2005.0   \n16390  16393            World Snooker Championship 2007     X360  2007.0   \n16408  16411                            Sega Rally Revo       PC  2007.0   \n16525  16528                               Blazer Drive       DS  2008.0   \n\n              Genre Publisher  NA_Sales  EU_Sales  JP_Sales  Other_Sales  \\\n85           Sports      Sega      2.58      3.90      0.66         0.91   \n143        Platform      Sega      4.47      1.20      0.16         0.19   \n189          Sports      Sega      1.64      2.48      0.44         0.58   \n233          Sports      Sega      1.89      1.99      0.22         0.48   \n254        Platform      Sega      3.03      0.91      0.26         0.13   \n...             ...       ...       ...       ...       ...          ...   \n16306        Racing      Sega      0.00      0.01      0.00         0.00   \n16351        Sports      Sega      0.00      0.01      0.00         0.00   \n16390        Sports      Sega      0.00      0.01      0.00         0.00   \n16408        Racing      Sega      0.00      0.01      0.00         0.00   \n16525  Role-Playing      Sega      0.00      0.00      0.01         0.00   \n\n       Global_Sales  \n85             8.06  \n143            6.03  \n189            5.14  \n233            4.58  \n254            4.34  \n...             ...  \n16306          0.01  \n16351          0.01  \n16390          0.01  \n16408          0.01  \n16525          0.01  \n\n[639 rows x 11 columns]",
      "text/html": "<div>\n<style scoped>\n    .dataframe tbody tr th:only-of-type {\n        vertical-align: middle;\n    }\n\n    .dataframe tbody tr th {\n        vertical-align: top;\n    }\n\n    .dataframe thead th {\n        text-align: right;\n    }\n</style>\n<table border=\"1\" class=\"dataframe\">\n  <thead>\n    <tr style=\"text-align: right;\">\n      <th></th>\n      <th>Rank</th>\n      <th>Name</th>\n      <th>Platform</th>\n      <th>Year</th>\n      <th>Genre</th>\n      <th>Publisher</th>\n      <th>NA_Sales</th>\n      <th>EU_Sales</th>\n      <th>JP_Sales</th>\n      <th>Other_Sales</th>\n      <th>Global_Sales</th>\n    </tr>\n  </thead>\n  <tbody>\n    <tr>\n      <th>85</th>\n      <td>86</td>\n      <td>Mario &amp; Sonic at the Olympic Games</td>\n      <td>Wii</td>\n      <td>2007.0</td>\n      <td>Sports</td>\n      <td>Sega</td>\n      <td>2.58</td>\n      <td>3.90</td>\n      <td>0.66</td>\n      <td>0.91</td>\n      <td>8.06</td>\n    </tr>\n    <tr>\n      <th>143</th>\n      <td>144</td>\n      <td>Sonic the Hedgehog 2</td>\n      <td>GEN</td>\n      <td>1992.0</td>\n      <td>Platform</td>\n      <td>Sega</td>\n      <td>4.47</td>\n      <td>1.20</td>\n      <td>0.16</td>\n      <td>0.19</td>\n      <td>6.03</td>\n    </tr>\n    <tr>\n      <th>189</th>\n      <td>190</td>\n      <td>Mario &amp; Sonic at the Olympic Games</td>\n      <td>DS</td>\n      <td>2008.0</td>\n      <td>Sports</td>\n      <td>Sega</td>\n      <td>1.64</td>\n      <td>2.48</td>\n      <td>0.44</td>\n      <td>0.58</td>\n      <td>5.14</td>\n    </tr>\n    <tr>\n      <th>233</th>\n      <td>234</td>\n      <td>Mario &amp; Sonic at the Olympic Winter Games</td>\n      <td>Wii</td>\n      <td>2009.0</td>\n      <td>Sports</td>\n      <td>Sega</td>\n      <td>1.89</td>\n      <td>1.99</td>\n      <td>0.22</td>\n      <td>0.48</td>\n      <td>4.58</td>\n    </tr>\n    <tr>\n      <th>254</th>\n      <td>255</td>\n      <td>Sonic the Hedgehog</td>\n      <td>GEN</td>\n      <td>1991.0</td>\n      <td>Platform</td>\n      <td>Sega</td>\n      <td>3.03</td>\n      <td>0.91</td>\n      <td>0.26</td>\n      <td>0.13</td>\n      <td>4.34</td>\n    </tr>\n    <tr>\n      <th>...</th>\n      <td>...</td>\n      <td>...</td>\n      <td>...</td>\n      <td>...</td>\n      <td>...</td>\n      <td>...</td>\n      <td>...</td>\n      <td>...</td>\n      <td>...</td>\n      <td>...</td>\n      <td>...</td>\n    </tr>\n    <tr>\n      <th>16306</th>\n      <td>16309</td>\n      <td>Full Auto 2: Battlelines</td>\n      <td>PSP</td>\n      <td>2007.0</td>\n      <td>Racing</td>\n      <td>Sega</td>\n      <td>0.00</td>\n      <td>0.01</td>\n      <td>0.00</td>\n      <td>0.00</td>\n      <td>0.01</td>\n    </tr>\n    <tr>\n      <th>16351</th>\n      <td>16354</td>\n      <td>World Snooker Challenge 2005</td>\n      <td>PSP</td>\n      <td>2005.0</td>\n      <td>Sports</td>\n      <td>Sega</td>\n      <td>0.00</td>\n      <td>0.01</td>\n      <td>0.00</td>\n      <td>0.00</td>\n      <td>0.01</td>\n    </tr>\n    <tr>\n      <th>16390</th>\n      <td>16393</td>\n      <td>World Snooker Championship 2007</td>\n      <td>X360</td>\n      <td>2007.0</td>\n      <td>Sports</td>\n      <td>Sega</td>\n      <td>0.00</td>\n      <td>0.01</td>\n      <td>0.00</td>\n      <td>0.00</td>\n      <td>0.01</td>\n    </tr>\n    <tr>\n      <th>16408</th>\n      <td>16411</td>\n      <td>Sega Rally Revo</td>\n      <td>PC</td>\n      <td>2007.0</td>\n      <td>Racing</td>\n      <td>Sega</td>\n      <td>0.00</td>\n      <td>0.01</td>\n      <td>0.00</td>\n      <td>0.00</td>\n      <td>0.01</td>\n    </tr>\n    <tr>\n      <th>16525</th>\n      <td>16528</td>\n      <td>Blazer Drive</td>\n      <td>DS</td>\n      <td>2008.0</td>\n      <td>Role-Playing</td>\n      <td>Sega</td>\n      <td>0.00</td>\n      <td>0.00</td>\n      <td>0.01</td>\n      <td>0.00</td>\n      <td>0.01</td>\n    </tr>\n  </tbody>\n</table>\n<p>639 rows × 11 columns</p>\n</div>"
     },
     "metadata": {},
     "execution_count": 80
    }
   ],
   "source": [
    "sega_games"
   ]
  },
  {
   "cell_type": "code",
   "execution_count": 81,
   "metadata": {},
   "outputs": [],
   "source": [
    "# Show all Sega games with Global_Sales more than 5"
   ]
  },
  {
   "cell_type": "code",
   "execution_count": 82,
   "metadata": {},
   "outputs": [],
   "source": [
    "sega_best_sells = sega_games[sega_games['Global_Sales'] >= 5]"
   ]
  },
  {
   "cell_type": "code",
   "execution_count": 83,
   "metadata": {},
   "outputs": [
    {
     "output_type": "execute_result",
     "data": {
      "text/plain": "     Rank                                Name Platform    Year     Genre  \\\n85     86  Mario & Sonic at the Olympic Games      Wii  2007.0    Sports   \n143   144                Sonic the Hedgehog 2      GEN  1992.0  Platform   \n189   190  Mario & Sonic at the Olympic Games       DS  2008.0    Sports   \n\n    Publisher  NA_Sales  EU_Sales  JP_Sales  Other_Sales  Global_Sales  \n85       Sega      2.58      3.90      0.66         0.91          8.06  \n143      Sega      4.47      1.20      0.16         0.19          6.03  \n189      Sega      1.64      2.48      0.44         0.58          5.14  ",
      "text/html": "<div>\n<style scoped>\n    .dataframe tbody tr th:only-of-type {\n        vertical-align: middle;\n    }\n\n    .dataframe tbody tr th {\n        vertical-align: top;\n    }\n\n    .dataframe thead th {\n        text-align: right;\n    }\n</style>\n<table border=\"1\" class=\"dataframe\">\n  <thead>\n    <tr style=\"text-align: right;\">\n      <th></th>\n      <th>Rank</th>\n      <th>Name</th>\n      <th>Platform</th>\n      <th>Year</th>\n      <th>Genre</th>\n      <th>Publisher</th>\n      <th>NA_Sales</th>\n      <th>EU_Sales</th>\n      <th>JP_Sales</th>\n      <th>Other_Sales</th>\n      <th>Global_Sales</th>\n    </tr>\n  </thead>\n  <tbody>\n    <tr>\n      <th>85</th>\n      <td>86</td>\n      <td>Mario &amp; Sonic at the Olympic Games</td>\n      <td>Wii</td>\n      <td>2007.0</td>\n      <td>Sports</td>\n      <td>Sega</td>\n      <td>2.58</td>\n      <td>3.90</td>\n      <td>0.66</td>\n      <td>0.91</td>\n      <td>8.06</td>\n    </tr>\n    <tr>\n      <th>143</th>\n      <td>144</td>\n      <td>Sonic the Hedgehog 2</td>\n      <td>GEN</td>\n      <td>1992.0</td>\n      <td>Platform</td>\n      <td>Sega</td>\n      <td>4.47</td>\n      <td>1.20</td>\n      <td>0.16</td>\n      <td>0.19</td>\n      <td>6.03</td>\n    </tr>\n    <tr>\n      <th>189</th>\n      <td>190</td>\n      <td>Mario &amp; Sonic at the Olympic Games</td>\n      <td>DS</td>\n      <td>2008.0</td>\n      <td>Sports</td>\n      <td>Sega</td>\n      <td>1.64</td>\n      <td>2.48</td>\n      <td>0.44</td>\n      <td>0.58</td>\n      <td>5.14</td>\n    </tr>\n  </tbody>\n</table>\n</div>"
     },
     "metadata": {},
     "execution_count": 83
    }
   ],
   "source": [
    "sega_best_sells"
   ]
  },
  {
   "cell_type": "code",
   "execution_count": null,
   "metadata": {},
   "outputs": [],
   "source": []
  }
 ],
 "metadata": {
  "language_info": {
   "codemirror_mode": {
    "name": "ipython",
    "version": 3
   },
   "file_extension": ".py",
   "mimetype": "text/x-python",
   "name": "python",
   "nbconvert_exporter": "python",
   "pygments_lexer": "ipython3",
   "version": "3.8.2-final"
  },
  "orig_nbformat": 2,
  "kernelspec": {
   "name": "python_defaultSpec_1594260999553",
   "display_name": "Python 3.8.2 64-bit"
  }
 },
 "nbformat": 4,
 "nbformat_minor": 2
}