{
 "cells": [
  {
   "cell_type": "code",
   "execution_count": 1,
   "metadata": {},
   "outputs": [],
   "source": [
    "import numpy as np\n",
    "import pandas as pd"
   ]
  },
  {
   "cell_type": "code",
   "execution_count": 2,
   "metadata": {},
   "outputs": [],
   "source": [
    "station_df = pd.read_csv('station.csv')"
   ]
  },
  {
   "cell_type": "code",
   "execution_count": 3,
   "metadata": {},
   "outputs": [
    {
     "output_type": "execute_result",
     "data": {
      "text/plain": "  station_id                            name        lat        long  \\\n0      BT-01              3rd Ave & Broad St  47.618418 -122.350964   \n1      BT-03               2nd Ave & Vine St  47.615829 -122.348564   \n2      BT-04          6th Ave & Blanchard St  47.616094 -122.341102   \n3      BT-05          2nd Ave & Blanchard St  47.613110 -122.344208   \n4     CBD-03              7th Ave & Union St  47.610731 -122.332447   \n5     CBD-04              Union St & 4th Ave  47.609221 -122.335596   \n6     CBD-05             1st Ave & Marion St  47.604058 -122.335800   \n7     CBD-06             2nd Ave & Spring St  47.605950 -122.335768   \n8     CBD-07  City Hall / 4th Ave & James St  47.603509 -122.330409   \n9     CBD-13               2nd Ave & Pine St  47.610185 -122.339641   \n\n  install_date  install_dockcount modification_date  current_dockcount  \\\n0   10/13/2014                 18               NaN                 18   \n1   10/13/2014                 16               NaN                 16   \n2   10/13/2014                 16               NaN                 16   \n3   10/13/2014                 14               NaN                 14   \n4   10/13/2014                 20               NaN                 20   \n5    7/27/2015                 18               NaN                 18   \n6   10/13/2014                 20               NaN                 20   \n7   10/13/2014                 20         11/9/2015                 18   \n8   10/13/2014                 20               NaN                 20   \n9   10/13/2014                 18               NaN                 18   \n\n  decommission_date  \n0               NaN  \n1               NaN  \n2               NaN  \n3               NaN  \n4               NaN  \n5               NaN  \n6               NaN  \n7               NaN  \n8               NaN  \n9               NaN  ",
      "text/html": "<div>\n<style scoped>\n    .dataframe tbody tr th:only-of-type {\n        vertical-align: middle;\n    }\n\n    .dataframe tbody tr th {\n        vertical-align: top;\n    }\n\n    .dataframe thead th {\n        text-align: right;\n    }\n</style>\n<table border=\"1\" class=\"dataframe\">\n  <thead>\n    <tr style=\"text-align: right;\">\n      <th></th>\n      <th>station_id</th>\n      <th>name</th>\n      <th>lat</th>\n      <th>long</th>\n      <th>install_date</th>\n      <th>install_dockcount</th>\n      <th>modification_date</th>\n      <th>current_dockcount</th>\n      <th>decommission_date</th>\n    </tr>\n  </thead>\n  <tbody>\n    <tr>\n      <th>0</th>\n      <td>BT-01</td>\n      <td>3rd Ave &amp; Broad St</td>\n      <td>47.618418</td>\n      <td>-122.350964</td>\n      <td>10/13/2014</td>\n      <td>18</td>\n      <td>NaN</td>\n      <td>18</td>\n      <td>NaN</td>\n    </tr>\n    <tr>\n      <th>1</th>\n      <td>BT-03</td>\n      <td>2nd Ave &amp; Vine St</td>\n      <td>47.615829</td>\n      <td>-122.348564</td>\n      <td>10/13/2014</td>\n      <td>16</td>\n      <td>NaN</td>\n      <td>16</td>\n      <td>NaN</td>\n    </tr>\n    <tr>\n      <th>2</th>\n      <td>BT-04</td>\n      <td>6th Ave &amp; Blanchard St</td>\n      <td>47.616094</td>\n      <td>-122.341102</td>\n      <td>10/13/2014</td>\n      <td>16</td>\n      <td>NaN</td>\n      <td>16</td>\n      <td>NaN</td>\n    </tr>\n    <tr>\n      <th>3</th>\n      <td>BT-05</td>\n      <td>2nd Ave &amp; Blanchard St</td>\n      <td>47.613110</td>\n      <td>-122.344208</td>\n      <td>10/13/2014</td>\n      <td>14</td>\n      <td>NaN</td>\n      <td>14</td>\n      <td>NaN</td>\n    </tr>\n    <tr>\n      <th>4</th>\n      <td>CBD-03</td>\n      <td>7th Ave &amp; Union St</td>\n      <td>47.610731</td>\n      <td>-122.332447</td>\n      <td>10/13/2014</td>\n      <td>20</td>\n      <td>NaN</td>\n      <td>20</td>\n      <td>NaN</td>\n    </tr>\n    <tr>\n      <th>5</th>\n      <td>CBD-04</td>\n      <td>Union St &amp; 4th Ave</td>\n      <td>47.609221</td>\n      <td>-122.335596</td>\n      <td>7/27/2015</td>\n      <td>18</td>\n      <td>NaN</td>\n      <td>18</td>\n      <td>NaN</td>\n    </tr>\n    <tr>\n      <th>6</th>\n      <td>CBD-05</td>\n      <td>1st Ave &amp; Marion St</td>\n      <td>47.604058</td>\n      <td>-122.335800</td>\n      <td>10/13/2014</td>\n      <td>20</td>\n      <td>NaN</td>\n      <td>20</td>\n      <td>NaN</td>\n    </tr>\n    <tr>\n      <th>7</th>\n      <td>CBD-06</td>\n      <td>2nd Ave &amp; Spring St</td>\n      <td>47.605950</td>\n      <td>-122.335768</td>\n      <td>10/13/2014</td>\n      <td>20</td>\n      <td>11/9/2015</td>\n      <td>18</td>\n      <td>NaN</td>\n    </tr>\n    <tr>\n      <th>8</th>\n      <td>CBD-07</td>\n      <td>City Hall / 4th Ave &amp; James St</td>\n      <td>47.603509</td>\n      <td>-122.330409</td>\n      <td>10/13/2014</td>\n      <td>20</td>\n      <td>NaN</td>\n      <td>20</td>\n      <td>NaN</td>\n    </tr>\n    <tr>\n      <th>9</th>\n      <td>CBD-13</td>\n      <td>2nd Ave &amp; Pine St</td>\n      <td>47.610185</td>\n      <td>-122.339641</td>\n      <td>10/13/2014</td>\n      <td>18</td>\n      <td>NaN</td>\n      <td>18</td>\n      <td>NaN</td>\n    </tr>\n  </tbody>\n</table>\n</div>"
     },
     "metadata": {},
     "execution_count": 3
    }
   ],
   "source": [
    "station_df.head(10)"
   ]
  },
  {
   "cell_type": "code",
   "execution_count": 4,
   "metadata": {
    "tags": []
   },
   "outputs": [
    {
     "output_type": "stream",
     "name": "stderr",
     "text": "b'Skipping line 50794: expected 12 fields, saw 20\\n'\n"
    }
   ],
   "source": [
    "\n",
    "trip_df = pd.read_csv('trip.csv', error_bad_lines=False)"
   ]
  },
  {
   "cell_type": "code",
   "execution_count": 5,
   "metadata": {},
   "outputs": [
    {
     "output_type": "execute_result",
     "data": {
      "text/plain": "        trip_id         starttime          stoptime    bikeid  tripduration  \\\n0           431  10/13/2014 10:31  10/13/2014 10:48  SEA00298       985.935   \n1           432  10/13/2014 10:32  10/13/2014 10:48  SEA00195       926.375   \n2           433  10/13/2014 10:33  10/13/2014 10:48  SEA00486       883.831   \n3           434  10/13/2014 10:34  10/13/2014 10:48  SEA00333       865.937   \n4           435  10/13/2014 10:34  10/13/2014 10:49  SEA00202       923.923   \n...         ...               ...               ...       ...           ...   \n286852   255241   8/31/2016 23:34   8/31/2016 23:45  SEA00201       679.532   \n286853   255242   8/31/2016 23:48     9/1/2016 0:20  SEA00247      1965.418   \n286854   255243   8/31/2016 23:47     9/1/2016 0:20  SEA00300      1951.173   \n286855   255244   8/31/2016 23:49     9/1/2016 0:20  SEA00047      1883.299   \n286856   255245   8/31/2016 23:49     9/1/2016 0:20  SEA00442      1896.031   \n\n                             from_station_name  \\\n0                          2nd Ave & Spring St   \n1                          2nd Ave & Spring St   \n2                          2nd Ave & Spring St   \n3                          2nd Ave & Spring St   \n4                          2nd Ave & Spring St   \n...                                        ...   \n286852                 Harvard Ave & E Pine St   \n286853  Cal Anderson Park / 11th Ave & Pine St   \n286854  Cal Anderson Park / 11th Ave & Pine St   \n286855  Cal Anderson Park / 11th Ave & Pine St   \n286856  Cal Anderson Park / 11th Ave & Pine St   \n\n                                          to_station_name from_station_id  \\\n0       Occidental Park / Occidental Ave S & S Washing...          CBD-06   \n1       Occidental Park / Occidental Ave S & S Washing...          CBD-06   \n2       Occidental Park / Occidental Ave S & S Washing...          CBD-06   \n3       Occidental Park / Occidental Ave S & S Washing...          CBD-06   \n4       Occidental Park / Occidental Ave S & S Washing...          CBD-06   \n...                                                   ...             ...   \n286852                                2nd Ave & Spring St           CH-09   \n286853                              6th Ave S & S King St           CH-08   \n286854                              6th Ave S & S King St           CH-08   \n286855                              6th Ave S & S King St           CH-08   \n286856                              6th Ave S & S King St           CH-08   \n\n       to_station_id                usertype  gender  birthyear  \n0              PS-04                  Member    Male     1960.0  \n1              PS-04                  Member    Male     1970.0  \n2              PS-04                  Member  Female     1988.0  \n3              PS-04                  Member  Female     1977.0  \n4              PS-04                  Member    Male     1971.0  \n...              ...                     ...     ...        ...  \n286852        CBD-06  Short-Term Pass Holder     NaN        NaN  \n286853         ID-04  Short-Term Pass Holder     NaN        NaN  \n286854         ID-04  Short-Term Pass Holder     NaN        NaN  \n286855         ID-04  Short-Term Pass Holder     NaN        NaN  \n286856         ID-04  Short-Term Pass Holder     NaN        NaN  \n\n[286857 rows x 12 columns]",
      "text/html": "<div>\n<style scoped>\n    .dataframe tbody tr th:only-of-type {\n        vertical-align: middle;\n    }\n\n    .dataframe tbody tr th {\n        vertical-align: top;\n    }\n\n    .dataframe thead th {\n        text-align: right;\n    }\n</style>\n<table border=\"1\" class=\"dataframe\">\n  <thead>\n    <tr style=\"text-align: right;\">\n      <th></th>\n      <th>trip_id</th>\n      <th>starttime</th>\n      <th>stoptime</th>\n      <th>bikeid</th>\n      <th>tripduration</th>\n      <th>from_station_name</th>\n      <th>to_station_name</th>\n      <th>from_station_id</th>\n      <th>to_station_id</th>\n      <th>usertype</th>\n      <th>gender</th>\n      <th>birthyear</th>\n    </tr>\n  </thead>\n  <tbody>\n    <tr>\n      <th>0</th>\n      <td>431</td>\n      <td>10/13/2014 10:31</td>\n      <td>10/13/2014 10:48</td>\n      <td>SEA00298</td>\n      <td>985.935</td>\n      <td>2nd Ave &amp; Spring St</td>\n      <td>Occidental Park / Occidental Ave S &amp; S Washing...</td>\n      <td>CBD-06</td>\n      <td>PS-04</td>\n      <td>Member</td>\n      <td>Male</td>\n      <td>1960.0</td>\n    </tr>\n    <tr>\n      <th>1</th>\n      <td>432</td>\n      <td>10/13/2014 10:32</td>\n      <td>10/13/2014 10:48</td>\n      <td>SEA00195</td>\n      <td>926.375</td>\n      <td>2nd Ave &amp; Spring St</td>\n      <td>Occidental Park / Occidental Ave S &amp; S Washing...</td>\n      <td>CBD-06</td>\n      <td>PS-04</td>\n      <td>Member</td>\n      <td>Male</td>\n      <td>1970.0</td>\n    </tr>\n    <tr>\n      <th>2</th>\n      <td>433</td>\n      <td>10/13/2014 10:33</td>\n      <td>10/13/2014 10:48</td>\n      <td>SEA00486</td>\n      <td>883.831</td>\n      <td>2nd Ave &amp; Spring St</td>\n      <td>Occidental Park / Occidental Ave S &amp; S Washing...</td>\n      <td>CBD-06</td>\n      <td>PS-04</td>\n      <td>Member</td>\n      <td>Female</td>\n      <td>1988.0</td>\n    </tr>\n    <tr>\n      <th>3</th>\n      <td>434</td>\n      <td>10/13/2014 10:34</td>\n      <td>10/13/2014 10:48</td>\n      <td>SEA00333</td>\n      <td>865.937</td>\n      <td>2nd Ave &amp; Spring St</td>\n      <td>Occidental Park / Occidental Ave S &amp; S Washing...</td>\n      <td>CBD-06</td>\n      <td>PS-04</td>\n      <td>Member</td>\n      <td>Female</td>\n      <td>1977.0</td>\n    </tr>\n    <tr>\n      <th>4</th>\n      <td>435</td>\n      <td>10/13/2014 10:34</td>\n      <td>10/13/2014 10:49</td>\n      <td>SEA00202</td>\n      <td>923.923</td>\n      <td>2nd Ave &amp; Spring St</td>\n      <td>Occidental Park / Occidental Ave S &amp; S Washing...</td>\n      <td>CBD-06</td>\n      <td>PS-04</td>\n      <td>Member</td>\n      <td>Male</td>\n      <td>1971.0</td>\n    </tr>\n    <tr>\n      <th>...</th>\n      <td>...</td>\n      <td>...</td>\n      <td>...</td>\n      <td>...</td>\n      <td>...</td>\n      <td>...</td>\n      <td>...</td>\n      <td>...</td>\n      <td>...</td>\n      <td>...</td>\n      <td>...</td>\n      <td>...</td>\n    </tr>\n    <tr>\n      <th>286852</th>\n      <td>255241</td>\n      <td>8/31/2016 23:34</td>\n      <td>8/31/2016 23:45</td>\n      <td>SEA00201</td>\n      <td>679.532</td>\n      <td>Harvard Ave &amp; E Pine St</td>\n      <td>2nd Ave &amp; Spring St</td>\n      <td>CH-09</td>\n      <td>CBD-06</td>\n      <td>Short-Term Pass Holder</td>\n      <td>NaN</td>\n      <td>NaN</td>\n    </tr>\n    <tr>\n      <th>286853</th>\n      <td>255242</td>\n      <td>8/31/2016 23:48</td>\n      <td>9/1/2016 0:20</td>\n      <td>SEA00247</td>\n      <td>1965.418</td>\n      <td>Cal Anderson Park / 11th Ave &amp; Pine St</td>\n      <td>6th Ave S &amp; S King St</td>\n      <td>CH-08</td>\n      <td>ID-04</td>\n      <td>Short-Term Pass Holder</td>\n      <td>NaN</td>\n      <td>NaN</td>\n    </tr>\n    <tr>\n      <th>286854</th>\n      <td>255243</td>\n      <td>8/31/2016 23:47</td>\n      <td>9/1/2016 0:20</td>\n      <td>SEA00300</td>\n      <td>1951.173</td>\n      <td>Cal Anderson Park / 11th Ave &amp; Pine St</td>\n      <td>6th Ave S &amp; S King St</td>\n      <td>CH-08</td>\n      <td>ID-04</td>\n      <td>Short-Term Pass Holder</td>\n      <td>NaN</td>\n      <td>NaN</td>\n    </tr>\n    <tr>\n      <th>286855</th>\n      <td>255244</td>\n      <td>8/31/2016 23:49</td>\n      <td>9/1/2016 0:20</td>\n      <td>SEA00047</td>\n      <td>1883.299</td>\n      <td>Cal Anderson Park / 11th Ave &amp; Pine St</td>\n      <td>6th Ave S &amp; S King St</td>\n      <td>CH-08</td>\n      <td>ID-04</td>\n      <td>Short-Term Pass Holder</td>\n      <td>NaN</td>\n      <td>NaN</td>\n    </tr>\n    <tr>\n      <th>286856</th>\n      <td>255245</td>\n      <td>8/31/2016 23:49</td>\n      <td>9/1/2016 0:20</td>\n      <td>SEA00442</td>\n      <td>1896.031</td>\n      <td>Cal Anderson Park / 11th Ave &amp; Pine St</td>\n      <td>6th Ave S &amp; S King St</td>\n      <td>CH-08</td>\n      <td>ID-04</td>\n      <td>Short-Term Pass Holder</td>\n      <td>NaN</td>\n      <td>NaN</td>\n    </tr>\n  </tbody>\n</table>\n<p>286857 rows × 12 columns</p>\n</div>"
     },
     "metadata": {},
     "execution_count": 5
    }
   ],
   "source": [
    "trip_df"
   ]
  },
  {
   "cell_type": "code",
   "execution_count": 6,
   "metadata": {},
   "outputs": [],
   "source": [
    "weather_df = pd.read_csv('weather.csv')"
   ]
  },
  {
   "cell_type": "code",
   "execution_count": 7,
   "metadata": {},
   "outputs": [
    {
     "output_type": "execute_result",
     "data": {
      "text/plain": "<bound method NDFrame.head of          \"Date\"  Max_Temperature_F  Mean_Temperature_F  Min_TemperatureF  \\\n0    10/13/2014                 71                62.0                54   \n1    10/14/2014                 63                59.0                55   \n2    10/15/2014                 62                58.0                54   \n3    10/16/2014                 71                61.0                52   \n4    10/17/2014                 64                60.0                57   \n..          ...                ...                 ...               ...   \n684   8/27/2016                 72                66.0                61   \n685   8/28/2016                 75                68.0                59   \n686   8/29/2016                 81                68.0                55   \n687   8/30/2016                 70                64.0                57   \n688   8/31/2016                 71                65.0                59   \n\n     Max_Dew_Point_F  MeanDew_Point_F  Min_Dewpoint_F  Max_Humidity  \\\n0                 55               51              46            87   \n1                 52               51              50            88   \n2                 53               50              46            87   \n3                 49               46              42            83   \n4                 55               51              41            87   \n..               ...              ...             ...           ...   \n684               57               54              50            81   \n685               54               52              50            80   \n686               55               53              50            89   \n687               55               53              52            83   \n688               61               56              52            90   \n\n     Mean_Humidity  Min_Humidity  ...  Mean_Sea_Level_Pressure_In  \\\n0               68            46  ...                       29.79   \n1               78            63  ...                       29.75   \n2               77            67  ...                       29.71   \n3               61            36  ...                       29.95   \n4               72            46  ...                       29.78   \n..             ...           ...  ...                         ...   \n684             65            46  ...                       29.88   \n685             65            44  ...                       30.06   \n686             65            39  ...                       30.02   \n687             69            53  ...                       30.01   \n688             77            63  ...                       29.97   \n\n     Min_Sea_Level_Pressure_In  Max_Visibility_Miles  Mean_Visibility_Miles  \\\n0                        29.65                    10                     10   \n1                        29.54                    10                      9   \n2                        29.51                    10                      9   \n3                        29.81                    10                     10   \n4                        29.73                    10                     10   \n..                         ...                   ...                    ...   \n684                      29.77                    10                     10   \n685                      30.01                    10                     10   \n686                      29.95                    10                     10   \n687                      29.97                    10                     10   \n688                      29.96                    10                     10   \n\n     Min_Visibility_Miles  Max_Wind_Speed_MPH  Mean_Wind_Speed_MPH  \\\n0                       4                  13                    4   \n1                       3                  10                    5   \n2                       3                  18                    7   \n3                      10                   9                    4   \n4                       6                   8                    3   \n..                    ...                 ...                  ...   \n684                    10                  16                    9   \n685                    10                  12                    9   \n686                     6                   9                    4   \n687                    10                  14                    9   \n688                     8                  14                    8   \n\n     Max_Gust_Speed_MPH Precipitation_In  Events  \n0                    21             0.00    Rain  \n1                    17             0.11    Rain  \n2                    25             0.45    Rain  \n3                     -             0.00    Rain  \n4                     -             0.14    Rain  \n..                  ...              ...     ...  \n684                 NaN             0.00     NaN  \n685                 NaN             0.00     NaN  \n686                 NaN             0.00     NaN  \n687                  18             0.00     NaN  \n688                 NaN             0.00    Rain  \n\n[689 rows x 21 columns]>"
     },
     "metadata": {},
     "execution_count": 7
    }
   ],
   "source": [
    "weather_df.head"
   ]
  },
  {
   "cell_type": "code",
   "execution_count": 8,
   "metadata": {},
   "outputs": [],
   "source": [
    "# What is the average trip duration for a borrowed bicycle?"
   ]
  },
  {
   "cell_type": "code",
   "execution_count": 9,
   "metadata": {},
   "outputs": [],
   "source": [
    "trip_duration_df = np.mean(trip_df['tripduration'])"
   ]
  },
  {
   "cell_type": "code",
   "execution_count": 10,
   "metadata": {},
   "outputs": [
    {
     "output_type": "execute_result",
     "data": {
      "text/plain": "1178.2956753399776"
     },
     "metadata": {},
     "execution_count": 10
    }
   ],
   "source": [
    "trip_duration_df"
   ]
  },
  {
   "cell_type": "code",
   "execution_count": 11,
   "metadata": {},
   "outputs": [],
   "source": [
    "# What’s the most common age of a bicycle-sharer?"
   ]
  },
  {
   "cell_type": "code",
   "execution_count": 12,
   "metadata": {},
   "outputs": [],
   "source": [
    "common_user_age = trip_df['birthyear'].mode()[0]"
   ]
  },
  {
   "cell_type": "code",
   "execution_count": null,
   "metadata": {},
   "outputs": [],
   "source": [
    "common_user_age = trip_df['birthyear'].mode()[0]"
   ]
  },
  {
   "cell_type": "code",
   "execution_count": 13,
   "metadata": {},
   "outputs": [],
   "source": [
    "common_user_age = 2020 - common_user_age\n"
   ]
  },
  {
   "cell_type": "code",
   "execution_count": 14,
   "metadata": {},
   "outputs": [
    {
     "output_type": "execute_result",
     "data": {
      "text/plain": "33.0"
     },
     "metadata": {},
     "execution_count": 14
    }
   ],
   "source": [
    "common_user_age"
   ]
  },
  {
   "cell_type": "code",
   "execution_count": 16,
   "metadata": {},
   "outputs": [],
   "source": [
    "sorted_by_precipitation = weather_df.sort_values('Precipitation_In', ascending=False)['Precipitation_In'] "
   ]
  },
  {
   "cell_type": "code",
   "execution_count": 17,
   "metadata": {},
   "outputs": [],
   "source": [
    "precipitation_median = sorted_by_precipitation.median()"
   ]
  },
  {
   "cell_type": "code",
   "execution_count": 18,
   "metadata": {},
   "outputs": [
    {
     "output_type": "execute_result",
     "data": {
      "text/plain": "0.0"
     },
     "metadata": {},
     "execution_count": 18
    }
   ],
   "source": [
    "precipitation_median"
   ]
  },
  {
   "cell_type": "code",
   "execution_count": 19,
   "metadata": {},
   "outputs": [],
   "source": [
    "avg_precipitation_month = np.mean(sorted_by_precipitation) * 12"
   ]
  },
  {
   "cell_type": "code",
   "execution_count": 20,
   "metadata": {},
   "outputs": [
    {
     "output_type": "execute_result",
     "data": {
      "text/plain": "1.2607837445573296"
     },
     "metadata": {},
     "execution_count": 20
    }
   ],
   "source": [
    "avg_precipitation_month"
   ]
  },
  {
   "cell_type": "code",
   "execution_count": 21,
   "metadata": {},
   "outputs": [],
   "source": [
    "#  What’s the average temperature?"
   ]
  },
  {
   "cell_type": "code",
   "execution_count": 22,
   "metadata": {},
   "outputs": [],
   "source": [
    "weather_df = np.mean(weather_df['Mean_Temperature_F'])"
   ]
  },
  {
   "cell_type": "code",
   "execution_count": 23,
   "metadata": {},
   "outputs": [
    {
     "output_type": "execute_result",
     "data": {
      "text/plain": "56.5843023255814"
     },
     "metadata": {},
     "execution_count": 23
    }
   ],
   "source": [
    "weather_df"
   ]
  },
  {
   "cell_type": "code",
   "execution_count": 29,
   "metadata": {},
   "outputs": [],
   "source": [
    "#  What's the average windspeed?"
   ]
  },
  {
   "cell_type": "code",
   "execution_count": 30,
   "metadata": {},
   "outputs": [
    {
     "output_type": "error",
     "ename": "IndexError",
     "evalue": "invalid index to scalar variable.",
     "traceback": [
      "\u001b[0;31m---------------------------------------------------------------------------\u001b[0m",
      "\u001b[0;31mIndexError\u001b[0m                                Traceback (most recent call last)",
      "\u001b[0;32m<ipython-input-30-fbb2d482f6fa>\u001b[0m in \u001b[0;36m<module>\u001b[0;34m\u001b[0m\n\u001b[0;32m----> 1\u001b[0;31m \u001b[0mweather_df\u001b[0m \u001b[0;34m=\u001b[0m \u001b[0mnp\u001b[0m\u001b[0;34m.\u001b[0m\u001b[0mmean\u001b[0m\u001b[0;34m(\u001b[0m\u001b[0mweather_df\u001b[0m\u001b[0;34m[\u001b[0m\u001b[0;34m'Mean_Wind_Speed'\u001b[0m\u001b[0;34m]\u001b[0m\u001b[0;34m)\u001b[0m\u001b[0;34m\u001b[0m\u001b[0;34m\u001b[0m\u001b[0m\n\u001b[0m",
      "\u001b[0;31mIndexError\u001b[0m: invalid index to scalar variable."
     ]
    }
   ],
   "source": [
    "weather_df = np.mean(weather_df['Mean_Wind_Speed'])"
   ]
  },
  {
   "cell_type": "code",
   "execution_count": 31,
   "metadata": {},
   "outputs": [
    {
     "output_type": "execute_result",
     "data": {
      "text/plain": "56.5843023255814"
     },
     "metadata": {},
     "execution_count": 31
    }
   ],
   "source": [
    "weather_df"
   ]
  },
  {
   "cell_type": "code",
   "execution_count": null,
   "metadata": {},
   "outputs": [],
   "source": []
  },
  {
   "cell_type": "code",
   "execution_count": 15,
   "metadata": {},
   "outputs": [],
   "source": [
    "# Given all the weather data here, find the average precipitation per month, and the median precipitation."
   ]
  },
  {
   "cell_type": "code",
   "execution_count": null,
   "metadata": {},
   "outputs": [],
   "source": []
  }
 ],
 "metadata": {
  "language_info": {
   "codemirror_mode": {
    "name": "ipython",
    "version": 3
   },
   "file_extension": ".py",
   "mimetype": "text/x-python",
   "name": "python",
   "nbconvert_exporter": "python",
   "pygments_lexer": "ipython3",
   "version": "3.8.2-final"
  },
  "orig_nbformat": 2,
  "kernelspec": {
   "name": "python_defaultSpec_1594332372259",
   "display_name": "Python 3.8.2 64-bit"
  }
 },
 "nbformat": 4,
 "nbformat_minor": 2
}